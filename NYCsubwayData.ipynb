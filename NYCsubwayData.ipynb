{
 "cells": [
  {
   "cell_type": "markdown",
   "metadata": {},
   "source": [
    "# Analyzing New York City subway data \n",
    "\n",
    "#### Author: Sushant N. More\n",
    "\n",
    "### Data from web.mta.info/developers/turnstile.html.  Also, using a data file from weather underground obtained from Udacity website\n",
    "\n",
    "#### Revision history: \n",
    "\n",
    "Sept. 15, 2017: Started writing"
   ]
  },
  {
   "cell_type": "code",
   "execution_count": 31,
   "metadata": {
    "collapsed": true
   },
   "outputs": [],
   "source": [
    "import pandas as pd\n",
    "import numpy as np\n",
    "import matplotlib.pyplot as plt\n",
    "%matplotlib inline\n",
    "import scipy.stats\n",
    "import csv"
   ]
  },
  {
   "cell_type": "markdown",
   "metadata": {},
   "source": [
    "## Data cleaning\n",
    "\n",
    "We will be analysing subway data from MTA's website for the month of May 2011 (because later I want to relate this to weather data and the weather data I have is for the month of May 2011). \n",
    "\n",
    "This is real-world data.  We can expect significant effort in cleaning and formatting the data. The data for a given month is in four different files.  Let's start by looking at the files to see how data is arranged. "
   ]
  },
  {
   "cell_type": "code",
   "execution_count": 32,
   "metadata": {
    "collapsed": true
   },
   "outputs": [],
   "source": [
    "turnstile_df1 = pd.read_csv('./data/turnstile_110507_from_web_mta_info.txt')"
   ]
  },
  {
   "cell_type": "code",
   "execution_count": 33,
   "metadata": {},
   "outputs": [
    {
     "data": {
      "text/html": [
       "<div>\n",
       "<style>\n",
       "    .dataframe thead tr:only-child th {\n",
       "        text-align: right;\n",
       "    }\n",
       "\n",
       "    .dataframe thead th {\n",
       "        text-align: left;\n",
       "    }\n",
       "\n",
       "    .dataframe tbody tr th {\n",
       "        vertical-align: top;\n",
       "    }\n",
       "</style>\n",
       "<table border=\"1\" class=\"dataframe\">\n",
       "  <thead>\n",
       "    <tr style=\"text-align: right;\">\n",
       "      <th></th>\n",
       "      <th>A002</th>\n",
       "      <th>R051</th>\n",
       "      <th>02-00-00</th>\n",
       "      <th>04-30-11</th>\n",
       "      <th>00:00:00</th>\n",
       "      <th>REGULAR</th>\n",
       "      <th>003143506</th>\n",
       "      <th>001087907</th>\n",
       "      <th>04-30-11.1</th>\n",
       "      <th>04:00:00</th>\n",
       "      <th>...</th>\n",
       "      <th>05-01-11</th>\n",
       "      <th>00:00:00.1</th>\n",
       "      <th>REGULAR.6</th>\n",
       "      <th>003144312</th>\n",
       "      <th>001088151</th>\n",
       "      <th>05-01-11.1</th>\n",
       "      <th>04:00:00.1</th>\n",
       "      <th>REGULAR.7</th>\n",
       "      <th>003144335</th>\n",
       "      <th>001088159</th>\n",
       "    </tr>\n",
       "  </thead>\n",
       "  <tbody>\n",
       "    <tr>\n",
       "      <th>0</th>\n",
       "      <td>A002</td>\n",
       "      <td>R051</td>\n",
       "      <td>02-00-00</td>\n",
       "      <td>05-01-11</td>\n",
       "      <td>08:00:00</td>\n",
       "      <td>REGULAR</td>\n",
       "      <td>3144353</td>\n",
       "      <td>1088177</td>\n",
       "      <td>05-01-11</td>\n",
       "      <td>12:00:00</td>\n",
       "      <td>...</td>\n",
       "      <td>05-02-11</td>\n",
       "      <td>08:00:00</td>\n",
       "      <td>REGULAR</td>\n",
       "      <td>3144941.0</td>\n",
       "      <td>1088420.0</td>\n",
       "      <td>05-02-11</td>\n",
       "      <td>12:00:00</td>\n",
       "      <td>REGULAR</td>\n",
       "      <td>3145094.0</td>\n",
       "      <td>1088753.0</td>\n",
       "    </tr>\n",
       "    <tr>\n",
       "      <th>1</th>\n",
       "      <td>A002</td>\n",
       "      <td>R051</td>\n",
       "      <td>02-00-00</td>\n",
       "      <td>05-02-11</td>\n",
       "      <td>16:00:00</td>\n",
       "      <td>REGULAR</td>\n",
       "      <td>3145337</td>\n",
       "      <td>1088823</td>\n",
       "      <td>05-02-11</td>\n",
       "      <td>20:00:00</td>\n",
       "      <td>...</td>\n",
       "      <td>05-03-11</td>\n",
       "      <td>16:00:00</td>\n",
       "      <td>REGULAR</td>\n",
       "      <td>3146790.0</td>\n",
       "      <td>1089417.0</td>\n",
       "      <td>05-03-11</td>\n",
       "      <td>20:00:00</td>\n",
       "      <td>REGULAR</td>\n",
       "      <td>3147615.0</td>\n",
       "      <td>1089478.0</td>\n",
       "    </tr>\n",
       "    <tr>\n",
       "      <th>2</th>\n",
       "      <td>A002</td>\n",
       "      <td>R051</td>\n",
       "      <td>02-00-00</td>\n",
       "      <td>05-04-11</td>\n",
       "      <td>00:00:00</td>\n",
       "      <td>REGULAR</td>\n",
       "      <td>3147798</td>\n",
       "      <td>1089515</td>\n",
       "      <td>05-04-11</td>\n",
       "      <td>04:00:00</td>\n",
       "      <td>...</td>\n",
       "      <td>05-05-11</td>\n",
       "      <td>00:00:00</td>\n",
       "      <td>REGULAR</td>\n",
       "      <td>3149281.0</td>\n",
       "      <td>1090139.0</td>\n",
       "      <td>05-05-11</td>\n",
       "      <td>04:00:00</td>\n",
       "      <td>REGULAR</td>\n",
       "      <td>3149297.0</td>\n",
       "      <td>1090145.0</td>\n",
       "    </tr>\n",
       "    <tr>\n",
       "      <th>3</th>\n",
       "      <td>A002</td>\n",
       "      <td>R051</td>\n",
       "      <td>02-00-00</td>\n",
       "      <td>05-05-11</td>\n",
       "      <td>08:00:00</td>\n",
       "      <td>REGULAR</td>\n",
       "      <td>3149331</td>\n",
       "      <td>1090257</td>\n",
       "      <td>05-05-11</td>\n",
       "      <td>09:04:33</td>\n",
       "      <td>...</td>\n",
       "      <td>05-05-11</td>\n",
       "      <td>12:00:00</td>\n",
       "      <td>OPEN</td>\n",
       "      <td>3149494.0</td>\n",
       "      <td>1090579.0</td>\n",
       "      <td>05-05-11</td>\n",
       "      <td>16:00:00</td>\n",
       "      <td>DOOR</td>\n",
       "      <td>3149805.0</td>\n",
       "      <td>1090652.0</td>\n",
       "    </tr>\n",
       "    <tr>\n",
       "      <th>4</th>\n",
       "      <td>A002</td>\n",
       "      <td>R051</td>\n",
       "      <td>02-00-00</td>\n",
       "      <td>05-05-11</td>\n",
       "      <td>20:00:00</td>\n",
       "      <td>REGULAR</td>\n",
       "      <td>3150639</td>\n",
       "      <td>1090714</td>\n",
       "      <td>05-06-11</td>\n",
       "      <td>00:00:00</td>\n",
       "      <td>...</td>\n",
       "      <td>05-06-11</td>\n",
       "      <td>20:00:00</td>\n",
       "      <td>REGULAR</td>\n",
       "      <td>3152200.0</td>\n",
       "      <td>1091283.0</td>\n",
       "      <td>NaN</td>\n",
       "      <td>NaN</td>\n",
       "      <td>NaN</td>\n",
       "      <td>NaN</td>\n",
       "      <td>NaN</td>\n",
       "    </tr>\n",
       "  </tbody>\n",
       "</table>\n",
       "<p>5 rows × 43 columns</p>\n",
       "</div>"
      ],
      "text/plain": [
       "   A002  R051  02-00-00  04-30-11  00:00:00  REGULAR  003143506  001087907  \\\n",
       "0  A002  R051  02-00-00  05-01-11  08:00:00  REGULAR    3144353    1088177   \n",
       "1  A002  R051  02-00-00  05-02-11  16:00:00  REGULAR    3145337    1088823   \n",
       "2  A002  R051  02-00-00  05-04-11  00:00:00  REGULAR    3147798    1089515   \n",
       "3  A002  R051  02-00-00  05-05-11  08:00:00  REGULAR    3149331    1090257   \n",
       "4  A002  R051  02-00-00  05-05-11  20:00:00  REGULAR    3150639    1090714   \n",
       "\n",
       "  04-30-11.1  04:00:00           ...            05-01-11  00:00:00.1  \\\n",
       "0   05-01-11  12:00:00           ...            05-02-11    08:00:00   \n",
       "1   05-02-11  20:00:00           ...            05-03-11    16:00:00   \n",
       "2   05-04-11  04:00:00           ...            05-05-11    00:00:00   \n",
       "3   05-05-11  09:04:33           ...            05-05-11    12:00:00   \n",
       "4   05-06-11  00:00:00           ...            05-06-11    20:00:00   \n",
       "\n",
       "   REGULAR.6  003144312  001088151 05-01-11.1  04:00:00.1  REGULAR.7  \\\n",
       "0    REGULAR  3144941.0  1088420.0   05-02-11    12:00:00    REGULAR   \n",
       "1    REGULAR  3146790.0  1089417.0   05-03-11    20:00:00    REGULAR   \n",
       "2    REGULAR  3149281.0  1090139.0   05-05-11    04:00:00    REGULAR   \n",
       "3       OPEN  3149494.0  1090579.0   05-05-11    16:00:00       DOOR   \n",
       "4    REGULAR  3152200.0  1091283.0        NaN         NaN        NaN   \n",
       "\n",
       "   003144335 001088159                \n",
       "0  3145094.0               1088753.0  \n",
       "1  3147615.0               1089478.0  \n",
       "2  3149297.0               1090145.0  \n",
       "3  3149805.0               1090652.0  \n",
       "4        NaN                     NaN  \n",
       "\n",
       "[5 rows x 43 columns]"
      ]
     },
     "execution_count": 33,
     "metadata": {},
     "output_type": "execute_result"
    }
   ],
   "source": [
    "turnstile_df1.head()"
   ]
  },
  {
   "cell_type": "markdown",
   "metadata": {},
   "source": [
    "The data is not conviniently arranged as expected.  And it's difficult to get sense of it by loading it into pandas data frame. Let's try looking at the file contents directly."
   ]
  },
  {
   "cell_type": "code",
   "execution_count": 34,
   "metadata": {},
   "outputs": [
    {
     "name": "stdout",
     "output_type": "stream",
     "text": [
      "['A002,R051,02-00-00,04-30-11,00:00:00,REGULAR,003143506,001087907,04-30-11,04:00:00,REGULAR,003143547,001087915,04-30-11,08:00:00,REGULAR,003143563,001087935,04-30-11,12:00:00,REGULAR,003143646,001088024,04-30-11,16:00:00,REGULAR,003143865,001088083,04-30-11,20:00:00,REGULAR,003144181,001088132,05-01-11,00:00:00,REGULAR,003144312,001088151,05-01-11,04:00:00,REGULAR,003144335,001088159              \\r\\n', 'A002,R051,02-00-00,05-01-11,08:00:00,REGULAR,003144353,001088177,05-01-11,12:00:00,REGULAR,003144424,001088231,05-01-11,16:00:00,REGULAR,003144594,001088275,05-01-11,20:00:00,REGULAR,003144808,001088317,05-02-11,00:00:00,REGULAR,003144895,001088328,05-02-11,04:00:00,REGULAR,003144905,001088331,05-02-11,08:00:00,REGULAR,003144941,001088420,05-02-11,12:00:00,REGULAR,003145094,001088753              \\r\\n', 'A002,R051,02-00-00,05-02-11,16:00:00,REGULAR,003145337,001088823,05-02-11,20:00:00,REGULAR,003146168,001088888,05-03-11,00:00:00,REGULAR,003146322,001088918,05-03-11,04:00:00,REGULAR,003146335,001088921,05-03-11,08:00:00,REGULAR,003146371,001089014,05-03-11,12:00:00,REGULAR,003146510,001089341,05-03-11,16:00:00,REGULAR,003146790,001089417,05-03-11,20:00:00,REGULAR,003147615,001089478              \\r\\n', 'A002,R051,02-00-00,05-04-11,00:00:00,REGULAR,003147798,001089515,05-04-11,04:00:00,REGULAR,003147809,001089520,05-04-11,08:00:00,REGULAR,003147859,001089632,05-04-11,12:00:00,REGULAR,003147999,001089965,05-04-11,16:00:00,REGULAR,003148276,001090054,05-04-11,20:00:00,REGULAR,003149108,001090117,05-05-11,00:00:00,REGULAR,003149281,001090139,05-05-11,04:00:00,REGULAR,003149297,001090145              \\r\\n']\n"
     ]
    }
   ],
   "source": [
    "with open(\"./data/turnstile_110507_from_web_mta_info.txt\") as myfile:\n",
    "    print myfile.readlines()[0:4] "
   ]
  },
  {
   "cell_type": "markdown",
   "metadata": {},
   "source": [
    "As we can see, there are numerous data points included in each row of the MTA Subway turnstile text file. \n",
    "\n",
    "We want to write a function that will update each row in the text file so there is only one entry per row. So a single row from the input file will generate multiple rows. For instance the first row displayed in the above file will turn into following set of rows.\n",
    "\n",
    "A002,R051,02-00-00,04-30-11,00:00:00,REGULAR,003143506,001087907,\n",
    "A002,R051,02-00-00,04-30-11,04:00:00,REGULAR,003143547,001087915,\n",
    "A002,R051,02-00-00,04-30-11,08:00:00,REGULAR,003143563,001087935,\n",
    "A002,R051,02-00-00,04-30-11,12:00:00,REGULAR,003143646,001088024,\n",
    "A002,R051,02-00-00,04-30-11,16:00:00,REGULAR,003143865,001088083,\n",
    "A002,R051,02-00-00,04-30-11,20:00:00,REGULAR,003144181,001088132,\n",
    "A002,R051,02-00-00,05-01-11,00:00:00,REGULAR,003144312,001088151,\n",
    "A002,R051,02-00-00,05-01-11,04:00:00,REGULAR,003144335,001088159\n",
    "\n",
    "The first three elements in the input line -- A002,R051,02-00-00 -- are repeated for each of the 8 lines in the ouput file. \n",
    "\n",
    "Along with the above, following two preemptive operations have been done at the file below.  \n",
    "\n",
    "1) From the time column, made a new column for Hour.  So that I can later on plot hourly data and so on\n",
    "\n",
    "2) I wanna combine this with weather data which has the date format as yyyy-mm-dd. So I changed the date format here. \n",
    "\n",
    "As I found out the hard way, given the size of the data, it is really time-consuming to do in-memory computations."
   ]
  },
  {
   "cell_type": "code",
   "execution_count": 35,
   "metadata": {
    "collapsed": true
   },
   "outputs": [],
   "source": [
    "fin1 = open(\"./data/turnstile_110507_from_web_mta_info.txt\", 'r')\n",
    "fout1 = open(\"./data/updated_turnstile_110507_from_web_mta_info.txt\", 'w')\n",
    "\n",
    "reader = csv.reader(fin1, delimiter = ',', quoting=csv.QUOTE_NONE)\n",
    "writer = csv.writer(fout1, delimiter = ',', quoting=csv.QUOTE_NONE)\n",
    "\n",
    "for line in reader:\n",
    "    \n",
    "    record1 = line[0]\n",
    "    record2 = line[1]\n",
    "    record3 = line[2]\n",
    "    \n",
    "    length = len(line)\n",
    "    \n",
    "    nn = (length - 1 - 7) / 5\n",
    "    \n",
    "    for i in range(0, nn + 1):\n",
    "        \n",
    "        date = line[5*i + 3]\n",
    "        \n",
    "        date_formatted = '20' + date.split('-')[2] + '-' + date.split('-')[0] + '-' + date.split('-')[1]\n",
    "        \n",
    "        lineToWrite = [record1, record2, record3, date_formatted, \\\n",
    "                         line[5*i + 4], int(line[5*i + 4].split(':')[0]), \\\n",
    "                       line[5*i + 5], line[5*i + 6], line[5*i + 7] ]\n",
    "        \n",
    "        writer.writerow(lineToWrite)\n",
    "\n",
    "fin1.close()\n",
    "fout1.close()"
   ]
  },
  {
   "cell_type": "markdown",
   "metadata": {},
   "source": [
    "Check to see if the updated file looks as expected"
   ]
  },
  {
   "cell_type": "code",
   "execution_count": 36,
   "metadata": {},
   "outputs": [
    {
     "name": "stdout",
     "output_type": "stream",
     "text": [
      "['A002,R051,02-00-00,2011-04-30,00:00:00,0,REGULAR,003143506,001087907\\r\\n', 'A002,R051,02-00-00,2011-04-30,04:00:00,4,REGULAR,003143547,001087915\\r\\n', 'A002,R051,02-00-00,2011-04-30,08:00:00,8,REGULAR,003143563,001087935\\r\\n', 'A002,R051,02-00-00,2011-04-30,12:00:00,12,REGULAR,003143646,001088024\\r\\n']\n"
     ]
    }
   ],
   "source": [
    "with open(\"./data/updated_turnstile_110507_from_web_mta_info.txt\") as myfile:\n",
    "    print myfile.readlines()[0:4] "
   ]
  },
  {
   "cell_type": "markdown",
   "metadata": {},
   "source": [
    "Let's fix the data in other files all at once"
   ]
  },
  {
   "cell_type": "code",
   "execution_count": 37,
   "metadata": {
    "collapsed": true
   },
   "outputs": [],
   "source": [
    "fileloc = './data/'\n",
    "filenames = [fileloc + 'turnstile_110514_from_web_mta_info.txt', \\\n",
    "            fileloc + 'turnstile_110521_from_web_mta_info.txt', \\\n",
    "            fileloc + 'turnstile_110528_from_web_mta_info.txt', \\\n",
    "            fileloc + 'turnstile_110604_from_web_mta_info.txt']"
   ]
  },
  {
   "cell_type": "code",
   "execution_count": 38,
   "metadata": {
    "collapsed": true
   },
   "outputs": [],
   "source": [
    "for k in range(0, len(filenames)):\n",
    "    \n",
    "    f_in = open(filenames[k], 'r')\n",
    "    f_out = open(filenames[k][0:len(fileloc)] + 'updated_' + filenames[k][len(fileloc):], 'w')\n",
    "    \n",
    "    reader_in = csv.reader(f_in, delimiter = ',', quoting=csv.QUOTE_NONE)\n",
    "    writer_out = csv.writer(f_out, delimiter = ',', quoting=csv.QUOTE_NONE)\n",
    "\n",
    "    for line in reader_in:\n",
    "\n",
    "        record1 = line[0]\n",
    "        record2 = line[1]\n",
    "        record3 = line[2]\n",
    "\n",
    "        length = len(line)\n",
    "\n",
    "        nn = (length - 1 - 7) / 5\n",
    "\n",
    "        for i in range(0, nn + 1):\n",
    "\n",
    "            date = line[5*i + 3]\n",
    "        \n",
    "            date_formatted = '20' + date.split('-')[2] + '-' + date.split('-')[0] + '-' + date.split('-')[1]\n",
    "        \n",
    "            lineToWrite = [record1, record2, record3, date_formatted, \\\n",
    "                             line[5*i + 4], int(line[5*i + 4].split(':')[0]), \\\n",
    "                           line[5*i + 5], line[5*i + 6], line[5*i + 7] ]\n",
    "\n",
    "            writer_out.writerow(lineToWrite)\n",
    "            \n",
    "    f_in.close()\n",
    "    f_out.close()"
   ]
  },
  {
   "cell_type": "markdown",
   "metadata": {},
   "source": [
    "As mentioned in the field description file, the entries in the column are as follows: \n",
    "\n",
    "C/A = Control Area (e.g., A002)\n",
    "\n",
    "UNIT = Remote Unit for a station (e.g., R051)\n",
    "\n",
    "SCP = Subunit Channel Position represents an specific address for a device (02-00-00)\n",
    "\n",
    "DATEn = Represents the date (MM-DD-YY)\n",
    "\n",
    "TIMEn = Represents the time (hh:mm:ss) for a scheduled audit event\n",
    "\n",
    "DEScn = Represent the \"REGULAR\" scheduled audit event (occurs every 4 hours)\n",
    "\n",
    "ENTRIESn = The comulative entry register value for a device\n",
    "\n",
    "EXISTn = The cumulative exit register value for a device"
   ]
  },
  {
   "cell_type": "markdown",
   "metadata": {},
   "source": [
    "Let's combine all the input files we generated into a single file and have a header row at the top describing the entries"
   ]
  },
  {
   "cell_type": "code",
   "execution_count": 39,
   "metadata": {
    "collapsed": true
   },
   "outputs": [],
   "source": [
    "filenamesUpdated = [fileloc + 'updated_turnstile_110507_from_web_mta_info.txt', \\\n",
    "            fileloc + 'updated_turnstile_110514_from_web_mta_info.txt', \\\n",
    "            fileloc + 'updated_turnstile_110521_from_web_mta_info.txt', \\\n",
    "            fileloc + 'updated_turnstile_110528_from_web_mta_info.txt', \\\n",
    "            fileloc + 'updated_turnstile_110604_from_web_mta_info.txt'       ]"
   ]
  },
  {
   "cell_type": "code",
   "execution_count": 40,
   "metadata": {
    "collapsed": true
   },
   "outputs": [],
   "source": [
    "with open(fileloc + 'turnstile_master_data.csv', 'w') as master_file:\n",
    "    master_file.write('C/A,UNIT,SCP,DATEn,TIMEn,Hour,DESCn,ENTRIESn,EXITSn\\n')\n",
    "    \n",
    "    for name in filenamesUpdated:\n",
    "        with open(name) as infile:\n",
    "            for line in infile:\n",
    "                master_file.write(line)"
   ]
  },
  {
   "cell_type": "code",
   "execution_count": 41,
   "metadata": {},
   "outputs": [
    {
     "name": "stdout",
     "output_type": "stream",
     "text": [
      "['C/A,UNIT,SCP,DATEn,TIMEn,Hour,DESCn,ENTRIESn,EXITSn\\n', 'A002,R051,02-00-00,2011-04-30,00:00:00,0,REGULAR,003143506,001087907\\r\\n', 'A002,R051,02-00-00,2011-04-30,04:00:00,4,REGULAR,003143547,001087915\\r\\n', 'A002,R051,02-00-00,2011-04-30,08:00:00,8,REGULAR,003143563,001087935\\r\\n']\n"
     ]
    }
   ],
   "source": [
    "with open(\"./data/turnstile_master_data.csv\") as myfile:\n",
    "    print myfile.readlines()[0:4] "
   ]
  },
  {
   "cell_type": "code",
   "execution_count": 42,
   "metadata": {
    "collapsed": true
   },
   "outputs": [],
   "source": [
    "turnstile_df = pd.read_csv('./data/turnstile_master_data.csv')"
   ]
  },
  {
   "cell_type": "code",
   "execution_count": 43,
   "metadata": {},
   "outputs": [
    {
     "data": {
      "text/html": [
       "<div>\n",
       "<style>\n",
       "    .dataframe thead tr:only-child th {\n",
       "        text-align: right;\n",
       "    }\n",
       "\n",
       "    .dataframe thead th {\n",
       "        text-align: left;\n",
       "    }\n",
       "\n",
       "    .dataframe tbody tr th {\n",
       "        vertical-align: top;\n",
       "    }\n",
       "</style>\n",
       "<table border=\"1\" class=\"dataframe\">\n",
       "  <thead>\n",
       "    <tr style=\"text-align: right;\">\n",
       "      <th></th>\n",
       "      <th>C/A</th>\n",
       "      <th>UNIT</th>\n",
       "      <th>SCP</th>\n",
       "      <th>DATEn</th>\n",
       "      <th>TIMEn</th>\n",
       "      <th>Hour</th>\n",
       "      <th>DESCn</th>\n",
       "      <th>ENTRIESn</th>\n",
       "      <th>EXITSn</th>\n",
       "    </tr>\n",
       "  </thead>\n",
       "  <tbody>\n",
       "    <tr>\n",
       "      <th>0</th>\n",
       "      <td>A002</td>\n",
       "      <td>R051</td>\n",
       "      <td>02-00-00</td>\n",
       "      <td>2011-04-30</td>\n",
       "      <td>00:00:00</td>\n",
       "      <td>0</td>\n",
       "      <td>REGULAR</td>\n",
       "      <td>3143506</td>\n",
       "      <td>1087907</td>\n",
       "    </tr>\n",
       "    <tr>\n",
       "      <th>1</th>\n",
       "      <td>A002</td>\n",
       "      <td>R051</td>\n",
       "      <td>02-00-00</td>\n",
       "      <td>2011-04-30</td>\n",
       "      <td>04:00:00</td>\n",
       "      <td>4</td>\n",
       "      <td>REGULAR</td>\n",
       "      <td>3143547</td>\n",
       "      <td>1087915</td>\n",
       "    </tr>\n",
       "    <tr>\n",
       "      <th>2</th>\n",
       "      <td>A002</td>\n",
       "      <td>R051</td>\n",
       "      <td>02-00-00</td>\n",
       "      <td>2011-04-30</td>\n",
       "      <td>08:00:00</td>\n",
       "      <td>8</td>\n",
       "      <td>REGULAR</td>\n",
       "      <td>3143563</td>\n",
       "      <td>1087935</td>\n",
       "    </tr>\n",
       "    <tr>\n",
       "      <th>3</th>\n",
       "      <td>A002</td>\n",
       "      <td>R051</td>\n",
       "      <td>02-00-00</td>\n",
       "      <td>2011-04-30</td>\n",
       "      <td>12:00:00</td>\n",
       "      <td>12</td>\n",
       "      <td>REGULAR</td>\n",
       "      <td>3143646</td>\n",
       "      <td>1088024</td>\n",
       "    </tr>\n",
       "    <tr>\n",
       "      <th>4</th>\n",
       "      <td>A002</td>\n",
       "      <td>R051</td>\n",
       "      <td>02-00-00</td>\n",
       "      <td>2011-04-30</td>\n",
       "      <td>16:00:00</td>\n",
       "      <td>16</td>\n",
       "      <td>REGULAR</td>\n",
       "      <td>3143865</td>\n",
       "      <td>1088083</td>\n",
       "    </tr>\n",
       "  </tbody>\n",
       "</table>\n",
       "</div>"
      ],
      "text/plain": [
       "    C/A  UNIT       SCP       DATEn     TIMEn  Hour    DESCn  ENTRIESn  \\\n",
       "0  A002  R051  02-00-00  2011-04-30  00:00:00     0  REGULAR   3143506   \n",
       "1  A002  R051  02-00-00  2011-04-30  04:00:00     4  REGULAR   3143547   \n",
       "2  A002  R051  02-00-00  2011-04-30  08:00:00     8  REGULAR   3143563   \n",
       "3  A002  R051  02-00-00  2011-04-30  12:00:00    12  REGULAR   3143646   \n",
       "4  A002  R051  02-00-00  2011-04-30  16:00:00    16  REGULAR   3143865   \n",
       "\n",
       "    EXITSn  \n",
       "0  1087907  \n",
       "1  1087915  \n",
       "2  1087935  \n",
       "3  1088024  \n",
       "4  1088083  "
      ]
     },
     "execution_count": 43,
     "metadata": {},
     "output_type": "execute_result"
    }
   ],
   "source": [
    "turnstile_df.head()"
   ]
  },
  {
   "cell_type": "code",
   "execution_count": 44,
   "metadata": {},
   "outputs": [
    {
     "name": "stdout",
     "output_type": "stream",
     "text": [
      "<class 'pandas.core.frame.DataFrame'>\n",
      "RangeIndex: 1069902 entries, 0 to 1069901\n",
      "Data columns (total 9 columns):\n",
      "C/A         1069902 non-null object\n",
      "UNIT        1069902 non-null object\n",
      "SCP         1069902 non-null object\n",
      "DATEn       1069902 non-null object\n",
      "TIMEn       1069902 non-null object\n",
      "Hour        1069902 non-null int64\n",
      "DESCn       1069902 non-null object\n",
      "ENTRIESn    1069902 non-null int64\n",
      "EXITSn      1069902 non-null int64\n",
      "dtypes: int64(3), object(6)\n",
      "memory usage: 73.5+ MB\n"
     ]
    }
   ],
   "source": [
    "turnstile_df.info()"
   ]
  },
  {
   "cell_type": "code",
   "execution_count": 45,
   "metadata": {},
   "outputs": [
    {
     "data": {
      "text/plain": [
       "array(['2011-04-30', '2011-05-01', '2011-05-02', '2011-05-03',\n",
       "       '2011-05-04', '2011-05-05', '2011-05-06', '2011-05-07',\n",
       "       '2011-05-08', '2011-05-09', '2011-05-10', '2011-05-11',\n",
       "       '2011-05-12', '2011-05-13', '2011-05-14', '2011-05-15',\n",
       "       '2011-05-16', '2011-05-17', '2011-05-18', '2011-05-19',\n",
       "       '2011-05-20', '2011-05-21', '2011-05-22', '2011-05-23',\n",
       "       '2011-05-24', '2011-05-25', '2011-05-26', '2011-05-27',\n",
       "       '2011-05-28', '2011-05-29', '2011-05-30', '2011-05-31',\n",
       "       '2011-06-01', '2011-06-02', '2011-06-03'], dtype=object)"
      ]
     },
     "execution_count": 45,
     "metadata": {},
     "output_type": "execute_result"
    }
   ],
   "source": [
    "turnstile_df.DATEn.unique()"
   ]
  },
  {
   "cell_type": "code",
   "execution_count": 46,
   "metadata": {
    "collapsed": true
   },
   "outputs": [],
   "source": [
    "turnstile_df_reg = turnstile_df_reg.loc[~(turnstile_df_reg['DATEn'].isin(['2011-04-30', \\\n",
    "                                                                         '2011-05-31', '2011-06-01',\\\n",
    "                                                                         '2011-06-02', '2011-06-03']))]"
   ]
  },
  {
   "cell_type": "code",
   "execution_count": 47,
   "metadata": {},
   "outputs": [
    {
     "data": {
      "text/plain": [
       "array(['REGULAR', 'DOOR', 'OPEN', 'TS', 'VLT', 'OPN', 'RECOVR', 'AUD',\n",
       "       'LOGON', 'LGF-MAN', 'BRD', 'CHG'], dtype=object)"
      ]
     },
     "execution_count": 47,
     "metadata": {},
     "output_type": "execute_result"
    }
   ],
   "source": [
    "turnstile_df.DESCn.unique()"
   ]
  },
  {
   "cell_type": "code",
   "execution_count": 48,
   "metadata": {},
   "outputs": [
    {
     "data": {
      "text/plain": [
       "REGULAR    873271\n",
       "DOOR        53615\n",
       "OPEN        49333\n",
       "RECOVR      41186\n",
       "AUD         38530\n",
       "TS           4665\n",
       "VLT          4181\n",
       "OPN          3192\n",
       "LOGON        1896\n",
       "BRD            15\n",
       "CHG            13\n",
       "LGF-MAN         5\n",
       "Name: DESCn, dtype: int64"
      ]
     },
     "execution_count": 48,
     "metadata": {},
     "output_type": "execute_result"
    }
   ],
   "source": [
    "turnstile_df.DESCn.value_counts()"
   ]
  },
  {
   "cell_type": "markdown",
   "metadata": {},
   "source": [
    "The field description key says that the 'REGULAR' in the DESCn column represents a scheduled audit event. So, let's keep only the entries which have 'REGULAR' in the DESCn column. "
   ]
  },
  {
   "cell_type": "code",
   "execution_count": 49,
   "metadata": {
    "collapsed": true
   },
   "outputs": [],
   "source": [
    "turnstile_df_reg = turnstile_df.loc[turnstile_df['DESCn'] == 'REGULAR']"
   ]
  },
  {
   "cell_type": "code",
   "execution_count": 50,
   "metadata": {
    "collapsed": true
   },
   "outputs": [],
   "source": [
    "turnstile_df_udacity = pd.read_csv('./data/turnstile_data_master_with_weather_udacity.csv')"
   ]
  },
  {
   "cell_type": "code",
   "execution_count": 54,
   "metadata": {
    "collapsed": true
   },
   "outputs": [],
   "source": [
    "turnstile_df_udacity_improved = \\\n",
    "pd.read_csv('./data/improved-dataset/improved-dataset/turnstile_weather_v2.csv')"
   ]
  },
  {
   "cell_type": "markdown",
   "metadata": {},
   "source": [
    "The data in the MTA Subway Turnstile data reports on the cumulative number of entries and exits per row. We would like to find the entries since the last reading (since that can be translated into subway ridership). \n",
    "\n",
    "We create a new column called ENTRIESn_4hourly and assign to the column the difference between ENTRIES of the currrent row and the previous row. "
   ]
  },
  {
   "cell_type": "code",
   "execution_count": 51,
   "metadata": {},
   "outputs": [
    {
     "data": {
      "text/plain": [
       "(873271, 9)"
      ]
     },
     "execution_count": 51,
     "metadata": {},
     "output_type": "execute_result"
    }
   ],
   "source": [
    "turnstile_df_reg.shape"
   ]
  },
  {
   "cell_type": "code",
   "execution_count": 52,
   "metadata": {},
   "outputs": [
    {
     "data": {
      "text/plain": [
       "(131951, 22)"
      ]
     },
     "execution_count": 52,
     "metadata": {},
     "output_type": "execute_result"
    }
   ],
   "source": [
    "turnstile_df_udacity.shape"
   ]
  },
  {
   "cell_type": "code",
   "execution_count": 55,
   "metadata": {},
   "outputs": [
    {
     "data": {
      "text/plain": [
       "(42649, 27)"
      ]
     },
     "execution_count": 55,
     "metadata": {},
     "output_type": "execute_result"
    }
   ],
   "source": [
    "turnstile_df_udacity_improved.shape"
   ]
  },
  {
   "cell_type": "code",
   "execution_count": 56,
   "metadata": {},
   "outputs": [
    {
     "data": {
      "text/plain": [
       "array(['05-01-11', '05-02-11', '05-03-11', '05-04-11', '05-05-11',\n",
       "       '05-06-11', '05-07-11', '05-08-11', '05-09-11', '05-10-11',\n",
       "       '05-11-11', '05-12-11', '05-13-11', '05-14-11', '05-15-11',\n",
       "       '05-16-11', '05-17-11', '05-18-11', '05-19-11', '05-20-11',\n",
       "       '05-21-11', '05-22-11', '05-23-11', '05-24-11', '05-25-11',\n",
       "       '05-26-11', '05-27-11', '05-28-11', '05-29-11', '05-30-11',\n",
       "       '05-31-11'], dtype=object)"
      ]
     },
     "execution_count": 56,
     "metadata": {},
     "output_type": "execute_result"
    }
   ],
   "source": [
    "turnstile_df_udacity_improved.DATEn.unique()"
   ]
  },
  {
   "cell_type": "code",
   "execution_count": 57,
   "metadata": {},
   "outputs": [
    {
     "data": {
      "text/plain": [
       "array(['2011-05-01', '2011-05-02', '2011-05-03', '2011-05-04',\n",
       "       '2011-05-05', '2011-05-06', '2011-05-07', '2011-05-08',\n",
       "       '2011-05-09', '2011-05-10', '2011-05-11', '2011-05-12',\n",
       "       '2011-05-13', '2011-05-14', '2011-05-15', '2011-05-16',\n",
       "       '2011-05-17', '2011-05-18', '2011-05-19', '2011-05-20',\n",
       "       '2011-05-21', '2011-05-22', '2011-05-23', '2011-05-24',\n",
       "       '2011-05-25', '2011-05-26', '2011-05-27', '2011-05-28',\n",
       "       '2011-05-29', '2011-05-30'], dtype=object)"
      ]
     },
     "execution_count": 57,
     "metadata": {},
     "output_type": "execute_result"
    }
   ],
   "source": [
    "turnstile_df_udacity.DATEn.unique()"
   ]
  },
  {
   "cell_type": "code",
   "execution_count": 59,
   "metadata": {},
   "outputs": [
    {
     "data": {
      "text/plain": [
       "465"
      ]
     },
     "execution_count": 59,
     "metadata": {},
     "output_type": "execute_result"
    }
   ],
   "source": [
    "turnstile_df_udacity.UNIT.nunique()"
   ]
  },
  {
   "cell_type": "code",
   "execution_count": 60,
   "metadata": {},
   "outputs": [
    {
     "data": {
      "text/plain": [
       "240"
      ]
     },
     "execution_count": 60,
     "metadata": {},
     "output_type": "execute_result"
    }
   ],
   "source": [
    "turnstile_df_udacity_improved.UNIT.nunique()"
   ]
  },
  {
   "cell_type": "code",
   "execution_count": 61,
   "metadata": {},
   "outputs": [
    {
     "data": {
      "text/plain": [
       "465"
      ]
     },
     "execution_count": 61,
     "metadata": {},
     "output_type": "execute_result"
    }
   ],
   "source": [
    "turnstile_df.UNIT.nunique()"
   ]
  },
  {
   "cell_type": "code",
   "execution_count": 62,
   "metadata": {},
   "outputs": [
    {
     "data": {
      "text/plain": [
       "465"
      ]
     },
     "execution_count": 62,
     "metadata": {},
     "output_type": "execute_result"
    }
   ],
   "source": [
    "turnstile_df_udacity.UNIT.nunique()"
   ]
  },
  {
   "cell_type": "code",
   "execution_count": 53,
   "metadata": {},
   "outputs": [
    {
     "data": {
      "text/html": [
       "<div>\n",
       "<style>\n",
       "    .dataframe thead tr:only-child th {\n",
       "        text-align: right;\n",
       "    }\n",
       "\n",
       "    .dataframe thead th {\n",
       "        text-align: left;\n",
       "    }\n",
       "\n",
       "    .dataframe tbody tr th {\n",
       "        vertical-align: top;\n",
       "    }\n",
       "</style>\n",
       "<table border=\"1\" class=\"dataframe\">\n",
       "  <thead>\n",
       "    <tr style=\"text-align: right;\">\n",
       "      <th></th>\n",
       "      <th>Unnamed: 0</th>\n",
       "      <th>UNIT</th>\n",
       "      <th>DATEn</th>\n",
       "      <th>TIMEn</th>\n",
       "      <th>Hour</th>\n",
       "      <th>DESCn</th>\n",
       "      <th>ENTRIESn_hourly</th>\n",
       "      <th>EXITSn_hourly</th>\n",
       "      <th>maxpressurei</th>\n",
       "      <th>maxdewpti</th>\n",
       "      <th>...</th>\n",
       "      <th>meandewpti</th>\n",
       "      <th>meanpressurei</th>\n",
       "      <th>fog</th>\n",
       "      <th>rain</th>\n",
       "      <th>meanwindspdi</th>\n",
       "      <th>mintempi</th>\n",
       "      <th>meantempi</th>\n",
       "      <th>maxtempi</th>\n",
       "      <th>precipi</th>\n",
       "      <th>thunder</th>\n",
       "    </tr>\n",
       "  </thead>\n",
       "  <tbody>\n",
       "    <tr>\n",
       "      <th>0</th>\n",
       "      <td>0</td>\n",
       "      <td>R001</td>\n",
       "      <td>2011-05-01</td>\n",
       "      <td>01:00:00</td>\n",
       "      <td>1</td>\n",
       "      <td>REGULAR</td>\n",
       "      <td>0.0</td>\n",
       "      <td>0.0</td>\n",
       "      <td>30.31</td>\n",
       "      <td>42.0</td>\n",
       "      <td>...</td>\n",
       "      <td>39.0</td>\n",
       "      <td>30.27</td>\n",
       "      <td>0.0</td>\n",
       "      <td>0.0</td>\n",
       "      <td>5.0</td>\n",
       "      <td>50.0</td>\n",
       "      <td>60.0</td>\n",
       "      <td>69.0</td>\n",
       "      <td>0.0</td>\n",
       "      <td>0.0</td>\n",
       "    </tr>\n",
       "    <tr>\n",
       "      <th>1</th>\n",
       "      <td>1</td>\n",
       "      <td>R001</td>\n",
       "      <td>2011-05-01</td>\n",
       "      <td>05:00:00</td>\n",
       "      <td>5</td>\n",
       "      <td>REGULAR</td>\n",
       "      <td>217.0</td>\n",
       "      <td>553.0</td>\n",
       "      <td>30.31</td>\n",
       "      <td>42.0</td>\n",
       "      <td>...</td>\n",
       "      <td>39.0</td>\n",
       "      <td>30.27</td>\n",
       "      <td>0.0</td>\n",
       "      <td>0.0</td>\n",
       "      <td>5.0</td>\n",
       "      <td>50.0</td>\n",
       "      <td>60.0</td>\n",
       "      <td>69.0</td>\n",
       "      <td>0.0</td>\n",
       "      <td>0.0</td>\n",
       "    </tr>\n",
       "    <tr>\n",
       "      <th>2</th>\n",
       "      <td>2</td>\n",
       "      <td>R001</td>\n",
       "      <td>2011-05-01</td>\n",
       "      <td>09:00:00</td>\n",
       "      <td>9</td>\n",
       "      <td>REGULAR</td>\n",
       "      <td>890.0</td>\n",
       "      <td>1262.0</td>\n",
       "      <td>30.31</td>\n",
       "      <td>42.0</td>\n",
       "      <td>...</td>\n",
       "      <td>39.0</td>\n",
       "      <td>30.27</td>\n",
       "      <td>0.0</td>\n",
       "      <td>0.0</td>\n",
       "      <td>5.0</td>\n",
       "      <td>50.0</td>\n",
       "      <td>60.0</td>\n",
       "      <td>69.0</td>\n",
       "      <td>0.0</td>\n",
       "      <td>0.0</td>\n",
       "    </tr>\n",
       "    <tr>\n",
       "      <th>3</th>\n",
       "      <td>3</td>\n",
       "      <td>R001</td>\n",
       "      <td>2011-05-01</td>\n",
       "      <td>13:00:00</td>\n",
       "      <td>13</td>\n",
       "      <td>REGULAR</td>\n",
       "      <td>2451.0</td>\n",
       "      <td>3708.0</td>\n",
       "      <td>30.31</td>\n",
       "      <td>42.0</td>\n",
       "      <td>...</td>\n",
       "      <td>39.0</td>\n",
       "      <td>30.27</td>\n",
       "      <td>0.0</td>\n",
       "      <td>0.0</td>\n",
       "      <td>5.0</td>\n",
       "      <td>50.0</td>\n",
       "      <td>60.0</td>\n",
       "      <td>69.0</td>\n",
       "      <td>0.0</td>\n",
       "      <td>0.0</td>\n",
       "    </tr>\n",
       "    <tr>\n",
       "      <th>4</th>\n",
       "      <td>4</td>\n",
       "      <td>R001</td>\n",
       "      <td>2011-05-01</td>\n",
       "      <td>17:00:00</td>\n",
       "      <td>17</td>\n",
       "      <td>REGULAR</td>\n",
       "      <td>4400.0</td>\n",
       "      <td>2501.0</td>\n",
       "      <td>30.31</td>\n",
       "      <td>42.0</td>\n",
       "      <td>...</td>\n",
       "      <td>39.0</td>\n",
       "      <td>30.27</td>\n",
       "      <td>0.0</td>\n",
       "      <td>0.0</td>\n",
       "      <td>5.0</td>\n",
       "      <td>50.0</td>\n",
       "      <td>60.0</td>\n",
       "      <td>69.0</td>\n",
       "      <td>0.0</td>\n",
       "      <td>0.0</td>\n",
       "    </tr>\n",
       "  </tbody>\n",
       "</table>\n",
       "<p>5 rows × 22 columns</p>\n",
       "</div>"
      ],
      "text/plain": [
       "   Unnamed: 0  UNIT       DATEn     TIMEn  Hour    DESCn  ENTRIESn_hourly  \\\n",
       "0           0  R001  2011-05-01  01:00:00     1  REGULAR              0.0   \n",
       "1           1  R001  2011-05-01  05:00:00     5  REGULAR            217.0   \n",
       "2           2  R001  2011-05-01  09:00:00     9  REGULAR            890.0   \n",
       "3           3  R001  2011-05-01  13:00:00    13  REGULAR           2451.0   \n",
       "4           4  R001  2011-05-01  17:00:00    17  REGULAR           4400.0   \n",
       "\n",
       "   EXITSn_hourly  maxpressurei  maxdewpti   ...     meandewpti  meanpressurei  \\\n",
       "0            0.0         30.31       42.0   ...           39.0          30.27   \n",
       "1          553.0         30.31       42.0   ...           39.0          30.27   \n",
       "2         1262.0         30.31       42.0   ...           39.0          30.27   \n",
       "3         3708.0         30.31       42.0   ...           39.0          30.27   \n",
       "4         2501.0         30.31       42.0   ...           39.0          30.27   \n",
       "\n",
       "   fog  rain  meanwindspdi  mintempi  meantempi  maxtempi  precipi  thunder  \n",
       "0  0.0   0.0           5.0      50.0       60.0      69.0      0.0      0.0  \n",
       "1  0.0   0.0           5.0      50.0       60.0      69.0      0.0      0.0  \n",
       "2  0.0   0.0           5.0      50.0       60.0      69.0      0.0      0.0  \n",
       "3  0.0   0.0           5.0      50.0       60.0      69.0      0.0      0.0  \n",
       "4  0.0   0.0           5.0      50.0       60.0      69.0      0.0      0.0  \n",
       "\n",
       "[5 rows x 22 columns]"
      ]
     },
     "execution_count": 53,
     "metadata": {},
     "output_type": "execute_result"
    }
   ],
   "source": [
    "turnstile_df_udacity.head()"
   ]
  },
  {
   "cell_type": "code",
   "execution_count": 63,
   "metadata": {},
   "outputs": [
    {
     "data": {
      "text/html": [
       "<div>\n",
       "<style>\n",
       "    .dataframe thead tr:only-child th {\n",
       "        text-align: right;\n",
       "    }\n",
       "\n",
       "    .dataframe thead th {\n",
       "        text-align: left;\n",
       "    }\n",
       "\n",
       "    .dataframe tbody tr th {\n",
       "        vertical-align: top;\n",
       "    }\n",
       "</style>\n",
       "<table border=\"1\" class=\"dataframe\">\n",
       "  <thead>\n",
       "    <tr style=\"text-align: right;\">\n",
       "      <th></th>\n",
       "      <th>C/A</th>\n",
       "      <th>UNIT</th>\n",
       "      <th>SCP</th>\n",
       "      <th>DATEn</th>\n",
       "      <th>TIMEn</th>\n",
       "      <th>Hour</th>\n",
       "      <th>DESCn</th>\n",
       "      <th>ENTRIESn</th>\n",
       "      <th>EXITSn</th>\n",
       "    </tr>\n",
       "  </thead>\n",
       "  <tbody>\n",
       "    <tr>\n",
       "      <th>0</th>\n",
       "      <td>A002</td>\n",
       "      <td>R051</td>\n",
       "      <td>02-00-00</td>\n",
       "      <td>2011-04-30</td>\n",
       "      <td>00:00:00</td>\n",
       "      <td>0</td>\n",
       "      <td>REGULAR</td>\n",
       "      <td>3143506</td>\n",
       "      <td>1087907</td>\n",
       "    </tr>\n",
       "    <tr>\n",
       "      <th>1</th>\n",
       "      <td>A002</td>\n",
       "      <td>R051</td>\n",
       "      <td>02-00-00</td>\n",
       "      <td>2011-04-30</td>\n",
       "      <td>04:00:00</td>\n",
       "      <td>4</td>\n",
       "      <td>REGULAR</td>\n",
       "      <td>3143547</td>\n",
       "      <td>1087915</td>\n",
       "    </tr>\n",
       "    <tr>\n",
       "      <th>2</th>\n",
       "      <td>A002</td>\n",
       "      <td>R051</td>\n",
       "      <td>02-00-00</td>\n",
       "      <td>2011-04-30</td>\n",
       "      <td>08:00:00</td>\n",
       "      <td>8</td>\n",
       "      <td>REGULAR</td>\n",
       "      <td>3143563</td>\n",
       "      <td>1087935</td>\n",
       "    </tr>\n",
       "    <tr>\n",
       "      <th>3</th>\n",
       "      <td>A002</td>\n",
       "      <td>R051</td>\n",
       "      <td>02-00-00</td>\n",
       "      <td>2011-04-30</td>\n",
       "      <td>12:00:00</td>\n",
       "      <td>12</td>\n",
       "      <td>REGULAR</td>\n",
       "      <td>3143646</td>\n",
       "      <td>1088024</td>\n",
       "    </tr>\n",
       "    <tr>\n",
       "      <th>4</th>\n",
       "      <td>A002</td>\n",
       "      <td>R051</td>\n",
       "      <td>02-00-00</td>\n",
       "      <td>2011-04-30</td>\n",
       "      <td>16:00:00</td>\n",
       "      <td>16</td>\n",
       "      <td>REGULAR</td>\n",
       "      <td>3143865</td>\n",
       "      <td>1088083</td>\n",
       "    </tr>\n",
       "  </tbody>\n",
       "</table>\n",
       "</div>"
      ],
      "text/plain": [
       "    C/A  UNIT       SCP       DATEn     TIMEn  Hour    DESCn  ENTRIESn  \\\n",
       "0  A002  R051  02-00-00  2011-04-30  00:00:00     0  REGULAR   3143506   \n",
       "1  A002  R051  02-00-00  2011-04-30  04:00:00     4  REGULAR   3143547   \n",
       "2  A002  R051  02-00-00  2011-04-30  08:00:00     8  REGULAR   3143563   \n",
       "3  A002  R051  02-00-00  2011-04-30  12:00:00    12  REGULAR   3143646   \n",
       "4  A002  R051  02-00-00  2011-04-30  16:00:00    16  REGULAR   3143865   \n",
       "\n",
       "    EXITSn  \n",
       "0  1087907  \n",
       "1  1087915  \n",
       "2  1087935  \n",
       "3  1088024  \n",
       "4  1088083  "
      ]
     },
     "execution_count": 63,
     "metadata": {},
     "output_type": "execute_result"
    }
   ],
   "source": [
    "turnstile_df.head()"
   ]
  },
  {
   "cell_type": "code",
   "execution_count": 81,
   "metadata": {},
   "outputs": [
    {
     "data": {
      "text/html": [
       "<div>\n",
       "<style>\n",
       "    .dataframe thead tr:only-child th {\n",
       "        text-align: right;\n",
       "    }\n",
       "\n",
       "    .dataframe thead th {\n",
       "        text-align: left;\n",
       "    }\n",
       "\n",
       "    .dataframe tbody tr th {\n",
       "        vertical-align: top;\n",
       "    }\n",
       "</style>\n",
       "<table border=\"1\" class=\"dataframe\">\n",
       "  <thead>\n",
       "    <tr style=\"text-align: right;\">\n",
       "      <th></th>\n",
       "      <th>C/A</th>\n",
       "      <th>UNIT</th>\n",
       "      <th>SCP</th>\n",
       "      <th>DATEn</th>\n",
       "      <th>TIMEn</th>\n",
       "      <th>Hour</th>\n",
       "      <th>DESCn</th>\n",
       "      <th>ENTRIESn</th>\n",
       "      <th>EXITSn</th>\n",
       "    </tr>\n",
       "  </thead>\n",
       "  <tbody>\n",
       "    <tr>\n",
       "      <th>168711</th>\n",
       "      <td>R245</td>\n",
       "      <td>R051</td>\n",
       "      <td>00-00-00</td>\n",
       "      <td>2011-04-30</td>\n",
       "      <td>00:00:00</td>\n",
       "      <td>0</td>\n",
       "      <td>REGULAR</td>\n",
       "      <td>10641946</td>\n",
       "      <td>2070651</td>\n",
       "    </tr>\n",
       "    <tr>\n",
       "      <th>168712</th>\n",
       "      <td>R245</td>\n",
       "      <td>R051</td>\n",
       "      <td>00-00-00</td>\n",
       "      <td>2011-04-30</td>\n",
       "      <td>04:00:00</td>\n",
       "      <td>4</td>\n",
       "      <td>REGULAR</td>\n",
       "      <td>10642028</td>\n",
       "      <td>2070661</td>\n",
       "    </tr>\n",
       "    <tr>\n",
       "      <th>168715</th>\n",
       "      <td>R245</td>\n",
       "      <td>R051</td>\n",
       "      <td>00-00-00</td>\n",
       "      <td>2011-04-30</td>\n",
       "      <td>12:00:00</td>\n",
       "      <td>12</td>\n",
       "      <td>REGULAR</td>\n",
       "      <td>10642198</td>\n",
       "      <td>2070765</td>\n",
       "    </tr>\n",
       "    <tr>\n",
       "      <th>168716</th>\n",
       "      <td>R245</td>\n",
       "      <td>R051</td>\n",
       "      <td>00-00-00</td>\n",
       "      <td>2011-04-30</td>\n",
       "      <td>16:00:00</td>\n",
       "      <td>16</td>\n",
       "      <td>REGULAR</td>\n",
       "      <td>10642661</td>\n",
       "      <td>2070930</td>\n",
       "    </tr>\n",
       "    <tr>\n",
       "      <th>168717</th>\n",
       "      <td>R245</td>\n",
       "      <td>R051</td>\n",
       "      <td>00-00-00</td>\n",
       "      <td>2011-04-30</td>\n",
       "      <td>20:00:00</td>\n",
       "      <td>20</td>\n",
       "      <td>REGULAR</td>\n",
       "      <td>10643410</td>\n",
       "      <td>2071053</td>\n",
       "    </tr>\n",
       "    <tr>\n",
       "      <th>168718</th>\n",
       "      <td>R245</td>\n",
       "      <td>R051</td>\n",
       "      <td>00-00-00</td>\n",
       "      <td>2011-05-01</td>\n",
       "      <td>00:00:00</td>\n",
       "      <td>0</td>\n",
       "      <td>REGULAR</td>\n",
       "      <td>10643811</td>\n",
       "      <td>2071092</td>\n",
       "    </tr>\n",
       "    <tr>\n",
       "      <th>168719</th>\n",
       "      <td>R245</td>\n",
       "      <td>R051</td>\n",
       "      <td>00-00-00</td>\n",
       "      <td>2011-05-01</td>\n",
       "      <td>04:00:00</td>\n",
       "      <td>4</td>\n",
       "      <td>REGULAR</td>\n",
       "      <td>10643884</td>\n",
       "      <td>2071102</td>\n",
       "    </tr>\n",
       "    <tr>\n",
       "      <th>168722</th>\n",
       "      <td>R245</td>\n",
       "      <td>R051</td>\n",
       "      <td>00-00-00</td>\n",
       "      <td>2011-05-01</td>\n",
       "      <td>12:00:00</td>\n",
       "      <td>12</td>\n",
       "      <td>REGULAR</td>\n",
       "      <td>10644017</td>\n",
       "      <td>2071155</td>\n",
       "    </tr>\n",
       "    <tr>\n",
       "      <th>168723</th>\n",
       "      <td>R245</td>\n",
       "      <td>R051</td>\n",
       "      <td>00-00-00</td>\n",
       "      <td>2011-05-01</td>\n",
       "      <td>16:00:00</td>\n",
       "      <td>16</td>\n",
       "      <td>REGULAR</td>\n",
       "      <td>10644342</td>\n",
       "      <td>2071260</td>\n",
       "    </tr>\n",
       "    <tr>\n",
       "      <th>168724</th>\n",
       "      <td>R245</td>\n",
       "      <td>R051</td>\n",
       "      <td>00-00-00</td>\n",
       "      <td>2011-05-01</td>\n",
       "      <td>20:00:00</td>\n",
       "      <td>20</td>\n",
       "      <td>REGULAR</td>\n",
       "      <td>10644901</td>\n",
       "      <td>2071352</td>\n",
       "    </tr>\n",
       "    <tr>\n",
       "      <th>168725</th>\n",
       "      <td>R245</td>\n",
       "      <td>R051</td>\n",
       "      <td>00-00-00</td>\n",
       "      <td>2011-05-02</td>\n",
       "      <td>00:00:00</td>\n",
       "      <td>0</td>\n",
       "      <td>REGULAR</td>\n",
       "      <td>10645208</td>\n",
       "      <td>2071370</td>\n",
       "    </tr>\n",
       "    <tr>\n",
       "      <th>168726</th>\n",
       "      <td>R245</td>\n",
       "      <td>R051</td>\n",
       "      <td>00-00-00</td>\n",
       "      <td>2011-05-02</td>\n",
       "      <td>04:00:00</td>\n",
       "      <td>4</td>\n",
       "      <td>REGULAR</td>\n",
       "      <td>10645249</td>\n",
       "      <td>2071373</td>\n",
       "    </tr>\n",
       "    <tr>\n",
       "      <th>168729</th>\n",
       "      <td>R245</td>\n",
       "      <td>R051</td>\n",
       "      <td>00-00-00</td>\n",
       "      <td>2011-05-02</td>\n",
       "      <td>12:00:00</td>\n",
       "      <td>12</td>\n",
       "      <td>REGULAR</td>\n",
       "      <td>10645455</td>\n",
       "      <td>2071468</td>\n",
       "    </tr>\n",
       "    <tr>\n",
       "      <th>168730</th>\n",
       "      <td>R245</td>\n",
       "      <td>R051</td>\n",
       "      <td>00-00-00</td>\n",
       "      <td>2011-05-02</td>\n",
       "      <td>13:32:12</td>\n",
       "      <td>13</td>\n",
       "      <td>REGULAR</td>\n",
       "      <td>10645563</td>\n",
       "      <td>2071497</td>\n",
       "    </tr>\n",
       "    <tr>\n",
       "      <th>168735</th>\n",
       "      <td>R245</td>\n",
       "      <td>R051</td>\n",
       "      <td>00-00-00</td>\n",
       "      <td>2011-05-03</td>\n",
       "      <td>04:00:00</td>\n",
       "      <td>4</td>\n",
       "      <td>REGULAR</td>\n",
       "      <td>10647090</td>\n",
       "      <td>2071689</td>\n",
       "    </tr>\n",
       "    <tr>\n",
       "      <th>168736</th>\n",
       "      <td>R245</td>\n",
       "      <td>R051</td>\n",
       "      <td>00-00-00</td>\n",
       "      <td>2011-05-03</td>\n",
       "      <td>08:00:00</td>\n",
       "      <td>8</td>\n",
       "      <td>REGULAR</td>\n",
       "      <td>10647165</td>\n",
       "      <td>2071702</td>\n",
       "    </tr>\n",
       "    <tr>\n",
       "      <th>168737</th>\n",
       "      <td>R245</td>\n",
       "      <td>R051</td>\n",
       "      <td>00-00-00</td>\n",
       "      <td>2011-05-03</td>\n",
       "      <td>12:00:00</td>\n",
       "      <td>12</td>\n",
       "      <td>REGULAR</td>\n",
       "      <td>10647353</td>\n",
       "      <td>2071789</td>\n",
       "    </tr>\n",
       "    <tr>\n",
       "      <th>168738</th>\n",
       "      <td>R245</td>\n",
       "      <td>R051</td>\n",
       "      <td>00-00-00</td>\n",
       "      <td>2011-05-03</td>\n",
       "      <td>16:00:00</td>\n",
       "      <td>16</td>\n",
       "      <td>REGULAR</td>\n",
       "      <td>10647743</td>\n",
       "      <td>2071861</td>\n",
       "    </tr>\n",
       "    <tr>\n",
       "      <th>168739</th>\n",
       "      <td>R245</td>\n",
       "      <td>R051</td>\n",
       "      <td>00-00-00</td>\n",
       "      <td>2011-05-03</td>\n",
       "      <td>20:00:00</td>\n",
       "      <td>20</td>\n",
       "      <td>REGULAR</td>\n",
       "      <td>10648617</td>\n",
       "      <td>2071948</td>\n",
       "    </tr>\n",
       "    <tr>\n",
       "      <th>168740</th>\n",
       "      <td>R245</td>\n",
       "      <td>R051</td>\n",
       "      <td>00-00-00</td>\n",
       "      <td>2011-05-04</td>\n",
       "      <td>00:00:00</td>\n",
       "      <td>0</td>\n",
       "      <td>REGULAR</td>\n",
       "      <td>10649021</td>\n",
       "      <td>2071971</td>\n",
       "    </tr>\n",
       "    <tr>\n",
       "      <th>168741</th>\n",
       "      <td>R245</td>\n",
       "      <td>R051</td>\n",
       "      <td>00-00-00</td>\n",
       "      <td>2011-05-04</td>\n",
       "      <td>04:00:00</td>\n",
       "      <td>4</td>\n",
       "      <td>REGULAR</td>\n",
       "      <td>10649083</td>\n",
       "      <td>2071978</td>\n",
       "    </tr>\n",
       "    <tr>\n",
       "      <th>168743</th>\n",
       "      <td>R245</td>\n",
       "      <td>R051</td>\n",
       "      <td>00-00-00</td>\n",
       "      <td>2011-05-04</td>\n",
       "      <td>08:00:00</td>\n",
       "      <td>8</td>\n",
       "      <td>REGULAR</td>\n",
       "      <td>10649165</td>\n",
       "      <td>2071984</td>\n",
       "    </tr>\n",
       "    <tr>\n",
       "      <th>168744</th>\n",
       "      <td>R245</td>\n",
       "      <td>R051</td>\n",
       "      <td>00-00-00</td>\n",
       "      <td>2011-05-04</td>\n",
       "      <td>12:00:00</td>\n",
       "      <td>12</td>\n",
       "      <td>REGULAR</td>\n",
       "      <td>10649331</td>\n",
       "      <td>2072099</td>\n",
       "    </tr>\n",
       "    <tr>\n",
       "      <th>168745</th>\n",
       "      <td>R245</td>\n",
       "      <td>R051</td>\n",
       "      <td>00-00-00</td>\n",
       "      <td>2011-05-04</td>\n",
       "      <td>16:00:00</td>\n",
       "      <td>16</td>\n",
       "      <td>REGULAR</td>\n",
       "      <td>10649783</td>\n",
       "      <td>2072186</td>\n",
       "    </tr>\n",
       "    <tr>\n",
       "      <th>168746</th>\n",
       "      <td>R245</td>\n",
       "      <td>R051</td>\n",
       "      <td>00-00-00</td>\n",
       "      <td>2011-05-04</td>\n",
       "      <td>20:00:00</td>\n",
       "      <td>20</td>\n",
       "      <td>REGULAR</td>\n",
       "      <td>10650666</td>\n",
       "      <td>2072254</td>\n",
       "    </tr>\n",
       "    <tr>\n",
       "      <th>168747</th>\n",
       "      <td>R245</td>\n",
       "      <td>R051</td>\n",
       "      <td>00-00-00</td>\n",
       "      <td>2011-05-05</td>\n",
       "      <td>00:00:00</td>\n",
       "      <td>0</td>\n",
       "      <td>REGULAR</td>\n",
       "      <td>10651054</td>\n",
       "      <td>2072280</td>\n",
       "    </tr>\n",
       "    <tr>\n",
       "      <th>168748</th>\n",
       "      <td>R245</td>\n",
       "      <td>R051</td>\n",
       "      <td>00-00-00</td>\n",
       "      <td>2011-05-05</td>\n",
       "      <td>04:00:00</td>\n",
       "      <td>4</td>\n",
       "      <td>REGULAR</td>\n",
       "      <td>10651110</td>\n",
       "      <td>2072284</td>\n",
       "    </tr>\n",
       "    <tr>\n",
       "      <th>168751</th>\n",
       "      <td>R245</td>\n",
       "      <td>R051</td>\n",
       "      <td>00-00-00</td>\n",
       "      <td>2011-05-05</td>\n",
       "      <td>12:00:00</td>\n",
       "      <td>12</td>\n",
       "      <td>REGULAR</td>\n",
       "      <td>10651379</td>\n",
       "      <td>2072408</td>\n",
       "    </tr>\n",
       "    <tr>\n",
       "      <th>168752</th>\n",
       "      <td>R245</td>\n",
       "      <td>R051</td>\n",
       "      <td>00-00-00</td>\n",
       "      <td>2011-05-05</td>\n",
       "      <td>16:00:00</td>\n",
       "      <td>16</td>\n",
       "      <td>REGULAR</td>\n",
       "      <td>10651794</td>\n",
       "      <td>2072542</td>\n",
       "    </tr>\n",
       "    <tr>\n",
       "      <th>168753</th>\n",
       "      <td>R245</td>\n",
       "      <td>R051</td>\n",
       "      <td>00-00-00</td>\n",
       "      <td>2011-05-05</td>\n",
       "      <td>20:00:00</td>\n",
       "      <td>20</td>\n",
       "      <td>REGULAR</td>\n",
       "      <td>10652625</td>\n",
       "      <td>2072613</td>\n",
       "    </tr>\n",
       "    <tr>\n",
       "      <th>...</th>\n",
       "      <td>...</td>\n",
       "      <td>...</td>\n",
       "      <td>...</td>\n",
       "      <td>...</td>\n",
       "      <td>...</td>\n",
       "      <td>...</td>\n",
       "      <td>...</td>\n",
       "      <td>...</td>\n",
       "      <td>...</td>\n",
       "    </tr>\n",
       "    <tr>\n",
       "      <th>1028280</th>\n",
       "      <td>R245A</td>\n",
       "      <td>R051</td>\n",
       "      <td>01-06-01</td>\n",
       "      <td>2011-05-29</td>\n",
       "      <td>04:00:00</td>\n",
       "      <td>4</td>\n",
       "      <td>REGULAR</td>\n",
       "      <td>623840</td>\n",
       "      <td>3399210</td>\n",
       "    </tr>\n",
       "    <tr>\n",
       "      <th>1028281</th>\n",
       "      <td>R245A</td>\n",
       "      <td>R051</td>\n",
       "      <td>01-06-01</td>\n",
       "      <td>2011-05-29</td>\n",
       "      <td>08:00:00</td>\n",
       "      <td>8</td>\n",
       "      <td>REGULAR</td>\n",
       "      <td>623840</td>\n",
       "      <td>3399226</td>\n",
       "    </tr>\n",
       "    <tr>\n",
       "      <th>1028287</th>\n",
       "      <td>R245A</td>\n",
       "      <td>R051</td>\n",
       "      <td>01-06-01</td>\n",
       "      <td>2011-05-30</td>\n",
       "      <td>00:00:00</td>\n",
       "      <td>0</td>\n",
       "      <td>REGULAR</td>\n",
       "      <td>623860</td>\n",
       "      <td>3400197</td>\n",
       "    </tr>\n",
       "    <tr>\n",
       "      <th>1028288</th>\n",
       "      <td>R245A</td>\n",
       "      <td>R051</td>\n",
       "      <td>01-06-01</td>\n",
       "      <td>2011-05-30</td>\n",
       "      <td>04:00:00</td>\n",
       "      <td>4</td>\n",
       "      <td>REGULAR</td>\n",
       "      <td>623861</td>\n",
       "      <td>3400211</td>\n",
       "    </tr>\n",
       "    <tr>\n",
       "      <th>1028289</th>\n",
       "      <td>R245A</td>\n",
       "      <td>R051</td>\n",
       "      <td>01-06-01</td>\n",
       "      <td>2011-05-30</td>\n",
       "      <td>08:00:00</td>\n",
       "      <td>8</td>\n",
       "      <td>REGULAR</td>\n",
       "      <td>623862</td>\n",
       "      <td>3400218</td>\n",
       "    </tr>\n",
       "    <tr>\n",
       "      <th>1028290</th>\n",
       "      <td>R245A</td>\n",
       "      <td>R051</td>\n",
       "      <td>01-06-01</td>\n",
       "      <td>2011-05-30</td>\n",
       "      <td>12:00:00</td>\n",
       "      <td>12</td>\n",
       "      <td>REGULAR</td>\n",
       "      <td>623862</td>\n",
       "      <td>3400349</td>\n",
       "    </tr>\n",
       "    <tr>\n",
       "      <th>1028291</th>\n",
       "      <td>R245A</td>\n",
       "      <td>R051</td>\n",
       "      <td>01-06-01</td>\n",
       "      <td>2011-05-30</td>\n",
       "      <td>16:00:00</td>\n",
       "      <td>16</td>\n",
       "      <td>REGULAR</td>\n",
       "      <td>623876</td>\n",
       "      <td>3400745</td>\n",
       "    </tr>\n",
       "    <tr>\n",
       "      <th>1028292</th>\n",
       "      <td>R245A</td>\n",
       "      <td>R051</td>\n",
       "      <td>01-06-01</td>\n",
       "      <td>2011-05-30</td>\n",
       "      <td>20:00:00</td>\n",
       "      <td>20</td>\n",
       "      <td>REGULAR</td>\n",
       "      <td>623886</td>\n",
       "      <td>3401025</td>\n",
       "    </tr>\n",
       "    <tr>\n",
       "      <th>1028293</th>\n",
       "      <td>R245A</td>\n",
       "      <td>R051</td>\n",
       "      <td>01-06-01</td>\n",
       "      <td>2011-05-31</td>\n",
       "      <td>00:00:00</td>\n",
       "      <td>0</td>\n",
       "      <td>REGULAR</td>\n",
       "      <td>623893</td>\n",
       "      <td>3401111</td>\n",
       "    </tr>\n",
       "    <tr>\n",
       "      <th>1028294</th>\n",
       "      <td>R245A</td>\n",
       "      <td>R051</td>\n",
       "      <td>01-06-01</td>\n",
       "      <td>2011-05-31</td>\n",
       "      <td>04:00:00</td>\n",
       "      <td>4</td>\n",
       "      <td>REGULAR</td>\n",
       "      <td>623895</td>\n",
       "      <td>3401120</td>\n",
       "    </tr>\n",
       "    <tr>\n",
       "      <th>1028295</th>\n",
       "      <td>R245A</td>\n",
       "      <td>R051</td>\n",
       "      <td>01-06-01</td>\n",
       "      <td>2011-05-31</td>\n",
       "      <td>08:00:00</td>\n",
       "      <td>8</td>\n",
       "      <td>REGULAR</td>\n",
       "      <td>623895</td>\n",
       "      <td>3401152</td>\n",
       "    </tr>\n",
       "    <tr>\n",
       "      <th>1028296</th>\n",
       "      <td>R245A</td>\n",
       "      <td>R051</td>\n",
       "      <td>01-06-01</td>\n",
       "      <td>2011-05-31</td>\n",
       "      <td>12:00:00</td>\n",
       "      <td>12</td>\n",
       "      <td>REGULAR</td>\n",
       "      <td>623909</td>\n",
       "      <td>3401539</td>\n",
       "    </tr>\n",
       "    <tr>\n",
       "      <th>1028297</th>\n",
       "      <td>R245A</td>\n",
       "      <td>R051</td>\n",
       "      <td>01-06-01</td>\n",
       "      <td>2011-05-31</td>\n",
       "      <td>16:00:00</td>\n",
       "      <td>16</td>\n",
       "      <td>REGULAR</td>\n",
       "      <td>623923</td>\n",
       "      <td>3402093</td>\n",
       "    </tr>\n",
       "    <tr>\n",
       "      <th>1028298</th>\n",
       "      <td>R245A</td>\n",
       "      <td>R051</td>\n",
       "      <td>01-06-01</td>\n",
       "      <td>2011-05-31</td>\n",
       "      <td>20:00:00</td>\n",
       "      <td>20</td>\n",
       "      <td>REGULAR</td>\n",
       "      <td>624006</td>\n",
       "      <td>3403074</td>\n",
       "    </tr>\n",
       "    <tr>\n",
       "      <th>1028299</th>\n",
       "      <td>R245A</td>\n",
       "      <td>R051</td>\n",
       "      <td>01-06-01</td>\n",
       "      <td>2011-06-01</td>\n",
       "      <td>00:00:00</td>\n",
       "      <td>0</td>\n",
       "      <td>REGULAR</td>\n",
       "      <td>624029</td>\n",
       "      <td>3403182</td>\n",
       "    </tr>\n",
       "    <tr>\n",
       "      <th>1028300</th>\n",
       "      <td>R245A</td>\n",
       "      <td>R051</td>\n",
       "      <td>01-06-01</td>\n",
       "      <td>2011-06-01</td>\n",
       "      <td>04:00:00</td>\n",
       "      <td>4</td>\n",
       "      <td>REGULAR</td>\n",
       "      <td>624033</td>\n",
       "      <td>3403198</td>\n",
       "    </tr>\n",
       "    <tr>\n",
       "      <th>1028301</th>\n",
       "      <td>R245A</td>\n",
       "      <td>R051</td>\n",
       "      <td>01-06-01</td>\n",
       "      <td>2011-06-01</td>\n",
       "      <td>08:00:00</td>\n",
       "      <td>8</td>\n",
       "      <td>REGULAR</td>\n",
       "      <td>624034</td>\n",
       "      <td>3403246</td>\n",
       "    </tr>\n",
       "    <tr>\n",
       "      <th>1028302</th>\n",
       "      <td>R245A</td>\n",
       "      <td>R051</td>\n",
       "      <td>01-06-01</td>\n",
       "      <td>2011-06-01</td>\n",
       "      <td>12:00:00</td>\n",
       "      <td>12</td>\n",
       "      <td>REGULAR</td>\n",
       "      <td>624055</td>\n",
       "      <td>3403630</td>\n",
       "    </tr>\n",
       "    <tr>\n",
       "      <th>1028303</th>\n",
       "      <td>R245A</td>\n",
       "      <td>R051</td>\n",
       "      <td>01-06-01</td>\n",
       "      <td>2011-06-01</td>\n",
       "      <td>16:00:00</td>\n",
       "      <td>16</td>\n",
       "      <td>REGULAR</td>\n",
       "      <td>624077</td>\n",
       "      <td>3404325</td>\n",
       "    </tr>\n",
       "    <tr>\n",
       "      <th>1028305</th>\n",
       "      <td>R245A</td>\n",
       "      <td>R051</td>\n",
       "      <td>01-06-01</td>\n",
       "      <td>2011-06-01</td>\n",
       "      <td>20:00:00</td>\n",
       "      <td>20</td>\n",
       "      <td>REGULAR</td>\n",
       "      <td>624168</td>\n",
       "      <td>3405939</td>\n",
       "    </tr>\n",
       "    <tr>\n",
       "      <th>1028306</th>\n",
       "      <td>R245A</td>\n",
       "      <td>R051</td>\n",
       "      <td>01-06-01</td>\n",
       "      <td>2011-06-02</td>\n",
       "      <td>00:00:00</td>\n",
       "      <td>0</td>\n",
       "      <td>REGULAR</td>\n",
       "      <td>624183</td>\n",
       "      <td>3406060</td>\n",
       "    </tr>\n",
       "    <tr>\n",
       "      <th>1028307</th>\n",
       "      <td>R245A</td>\n",
       "      <td>R051</td>\n",
       "      <td>01-06-01</td>\n",
       "      <td>2011-06-02</td>\n",
       "      <td>04:00:00</td>\n",
       "      <td>4</td>\n",
       "      <td>REGULAR</td>\n",
       "      <td>624187</td>\n",
       "      <td>3406070</td>\n",
       "    </tr>\n",
       "    <tr>\n",
       "      <th>1028308</th>\n",
       "      <td>R245A</td>\n",
       "      <td>R051</td>\n",
       "      <td>01-06-01</td>\n",
       "      <td>2011-06-02</td>\n",
       "      <td>08:00:00</td>\n",
       "      <td>8</td>\n",
       "      <td>REGULAR</td>\n",
       "      <td>624188</td>\n",
       "      <td>3406134</td>\n",
       "    </tr>\n",
       "    <tr>\n",
       "      <th>1028313</th>\n",
       "      <td>R245A</td>\n",
       "      <td>R051</td>\n",
       "      <td>01-06-01</td>\n",
       "      <td>2011-06-02</td>\n",
       "      <td>20:00:00</td>\n",
       "      <td>20</td>\n",
       "      <td>REGULAR</td>\n",
       "      <td>624297</td>\n",
       "      <td>3408325</td>\n",
       "    </tr>\n",
       "    <tr>\n",
       "      <th>1028314</th>\n",
       "      <td>R245A</td>\n",
       "      <td>R051</td>\n",
       "      <td>01-06-01</td>\n",
       "      <td>2011-06-03</td>\n",
       "      <td>00:00:00</td>\n",
       "      <td>0</td>\n",
       "      <td>REGULAR</td>\n",
       "      <td>624311</td>\n",
       "      <td>3408475</td>\n",
       "    </tr>\n",
       "    <tr>\n",
       "      <th>1028315</th>\n",
       "      <td>R245A</td>\n",
       "      <td>R051</td>\n",
       "      <td>01-06-01</td>\n",
       "      <td>2011-06-03</td>\n",
       "      <td>04:00:00</td>\n",
       "      <td>4</td>\n",
       "      <td>REGULAR</td>\n",
       "      <td>624321</td>\n",
       "      <td>3408500</td>\n",
       "    </tr>\n",
       "    <tr>\n",
       "      <th>1028316</th>\n",
       "      <td>R245A</td>\n",
       "      <td>R051</td>\n",
       "      <td>01-06-01</td>\n",
       "      <td>2011-06-03</td>\n",
       "      <td>08:00:00</td>\n",
       "      <td>8</td>\n",
       "      <td>REGULAR</td>\n",
       "      <td>624323</td>\n",
       "      <td>3408546</td>\n",
       "    </tr>\n",
       "    <tr>\n",
       "      <th>1028317</th>\n",
       "      <td>R245A</td>\n",
       "      <td>R051</td>\n",
       "      <td>01-06-01</td>\n",
       "      <td>2011-06-03</td>\n",
       "      <td>12:00:00</td>\n",
       "      <td>12</td>\n",
       "      <td>REGULAR</td>\n",
       "      <td>624341</td>\n",
       "      <td>3409027</td>\n",
       "    </tr>\n",
       "    <tr>\n",
       "      <th>1028318</th>\n",
       "      <td>R245A</td>\n",
       "      <td>R051</td>\n",
       "      <td>01-06-01</td>\n",
       "      <td>2011-06-03</td>\n",
       "      <td>16:00:00</td>\n",
       "      <td>16</td>\n",
       "      <td>REGULAR</td>\n",
       "      <td>624367</td>\n",
       "      <td>3409731</td>\n",
       "    </tr>\n",
       "    <tr>\n",
       "      <th>1028319</th>\n",
       "      <td>R245A</td>\n",
       "      <td>R051</td>\n",
       "      <td>01-06-01</td>\n",
       "      <td>2011-06-03</td>\n",
       "      <td>20:00:00</td>\n",
       "      <td>20</td>\n",
       "      <td>REGULAR</td>\n",
       "      <td>624428</td>\n",
       "      <td>3410637</td>\n",
       "    </tr>\n",
       "  </tbody>\n",
       "</table>\n",
       "<p>2731 rows × 9 columns</p>\n",
       "</div>"
      ],
      "text/plain": [
       "           C/A  UNIT       SCP       DATEn     TIMEn  Hour    DESCn  ENTRIESn  \\\n",
       "168711    R245  R051  00-00-00  2011-04-30  00:00:00     0  REGULAR  10641946   \n",
       "168712    R245  R051  00-00-00  2011-04-30  04:00:00     4  REGULAR  10642028   \n",
       "168715    R245  R051  00-00-00  2011-04-30  12:00:00    12  REGULAR  10642198   \n",
       "168716    R245  R051  00-00-00  2011-04-30  16:00:00    16  REGULAR  10642661   \n",
       "168717    R245  R051  00-00-00  2011-04-30  20:00:00    20  REGULAR  10643410   \n",
       "168718    R245  R051  00-00-00  2011-05-01  00:00:00     0  REGULAR  10643811   \n",
       "168719    R245  R051  00-00-00  2011-05-01  04:00:00     4  REGULAR  10643884   \n",
       "168722    R245  R051  00-00-00  2011-05-01  12:00:00    12  REGULAR  10644017   \n",
       "168723    R245  R051  00-00-00  2011-05-01  16:00:00    16  REGULAR  10644342   \n",
       "168724    R245  R051  00-00-00  2011-05-01  20:00:00    20  REGULAR  10644901   \n",
       "168725    R245  R051  00-00-00  2011-05-02  00:00:00     0  REGULAR  10645208   \n",
       "168726    R245  R051  00-00-00  2011-05-02  04:00:00     4  REGULAR  10645249   \n",
       "168729    R245  R051  00-00-00  2011-05-02  12:00:00    12  REGULAR  10645455   \n",
       "168730    R245  R051  00-00-00  2011-05-02  13:32:12    13  REGULAR  10645563   \n",
       "168735    R245  R051  00-00-00  2011-05-03  04:00:00     4  REGULAR  10647090   \n",
       "168736    R245  R051  00-00-00  2011-05-03  08:00:00     8  REGULAR  10647165   \n",
       "168737    R245  R051  00-00-00  2011-05-03  12:00:00    12  REGULAR  10647353   \n",
       "168738    R245  R051  00-00-00  2011-05-03  16:00:00    16  REGULAR  10647743   \n",
       "168739    R245  R051  00-00-00  2011-05-03  20:00:00    20  REGULAR  10648617   \n",
       "168740    R245  R051  00-00-00  2011-05-04  00:00:00     0  REGULAR  10649021   \n",
       "168741    R245  R051  00-00-00  2011-05-04  04:00:00     4  REGULAR  10649083   \n",
       "168743    R245  R051  00-00-00  2011-05-04  08:00:00     8  REGULAR  10649165   \n",
       "168744    R245  R051  00-00-00  2011-05-04  12:00:00    12  REGULAR  10649331   \n",
       "168745    R245  R051  00-00-00  2011-05-04  16:00:00    16  REGULAR  10649783   \n",
       "168746    R245  R051  00-00-00  2011-05-04  20:00:00    20  REGULAR  10650666   \n",
       "168747    R245  R051  00-00-00  2011-05-05  00:00:00     0  REGULAR  10651054   \n",
       "168748    R245  R051  00-00-00  2011-05-05  04:00:00     4  REGULAR  10651110   \n",
       "168751    R245  R051  00-00-00  2011-05-05  12:00:00    12  REGULAR  10651379   \n",
       "168752    R245  R051  00-00-00  2011-05-05  16:00:00    16  REGULAR  10651794   \n",
       "168753    R245  R051  00-00-00  2011-05-05  20:00:00    20  REGULAR  10652625   \n",
       "...        ...   ...       ...         ...       ...   ...      ...       ...   \n",
       "1028280  R245A  R051  01-06-01  2011-05-29  04:00:00     4  REGULAR    623840   \n",
       "1028281  R245A  R051  01-06-01  2011-05-29  08:00:00     8  REGULAR    623840   \n",
       "1028287  R245A  R051  01-06-01  2011-05-30  00:00:00     0  REGULAR    623860   \n",
       "1028288  R245A  R051  01-06-01  2011-05-30  04:00:00     4  REGULAR    623861   \n",
       "1028289  R245A  R051  01-06-01  2011-05-30  08:00:00     8  REGULAR    623862   \n",
       "1028290  R245A  R051  01-06-01  2011-05-30  12:00:00    12  REGULAR    623862   \n",
       "1028291  R245A  R051  01-06-01  2011-05-30  16:00:00    16  REGULAR    623876   \n",
       "1028292  R245A  R051  01-06-01  2011-05-30  20:00:00    20  REGULAR    623886   \n",
       "1028293  R245A  R051  01-06-01  2011-05-31  00:00:00     0  REGULAR    623893   \n",
       "1028294  R245A  R051  01-06-01  2011-05-31  04:00:00     4  REGULAR    623895   \n",
       "1028295  R245A  R051  01-06-01  2011-05-31  08:00:00     8  REGULAR    623895   \n",
       "1028296  R245A  R051  01-06-01  2011-05-31  12:00:00    12  REGULAR    623909   \n",
       "1028297  R245A  R051  01-06-01  2011-05-31  16:00:00    16  REGULAR    623923   \n",
       "1028298  R245A  R051  01-06-01  2011-05-31  20:00:00    20  REGULAR    624006   \n",
       "1028299  R245A  R051  01-06-01  2011-06-01  00:00:00     0  REGULAR    624029   \n",
       "1028300  R245A  R051  01-06-01  2011-06-01  04:00:00     4  REGULAR    624033   \n",
       "1028301  R245A  R051  01-06-01  2011-06-01  08:00:00     8  REGULAR    624034   \n",
       "1028302  R245A  R051  01-06-01  2011-06-01  12:00:00    12  REGULAR    624055   \n",
       "1028303  R245A  R051  01-06-01  2011-06-01  16:00:00    16  REGULAR    624077   \n",
       "1028305  R245A  R051  01-06-01  2011-06-01  20:00:00    20  REGULAR    624168   \n",
       "1028306  R245A  R051  01-06-01  2011-06-02  00:00:00     0  REGULAR    624183   \n",
       "1028307  R245A  R051  01-06-01  2011-06-02  04:00:00     4  REGULAR    624187   \n",
       "1028308  R245A  R051  01-06-01  2011-06-02  08:00:00     8  REGULAR    624188   \n",
       "1028313  R245A  R051  01-06-01  2011-06-02  20:00:00    20  REGULAR    624297   \n",
       "1028314  R245A  R051  01-06-01  2011-06-03  00:00:00     0  REGULAR    624311   \n",
       "1028315  R245A  R051  01-06-01  2011-06-03  04:00:00     4  REGULAR    624321   \n",
       "1028316  R245A  R051  01-06-01  2011-06-03  08:00:00     8  REGULAR    624323   \n",
       "1028317  R245A  R051  01-06-01  2011-06-03  12:00:00    12  REGULAR    624341   \n",
       "1028318  R245A  R051  01-06-01  2011-06-03  16:00:00    16  REGULAR    624367   \n",
       "1028319  R245A  R051  01-06-01  2011-06-03  20:00:00    20  REGULAR    624428   \n",
       "\n",
       "          EXITSn  \n",
       "168711   2070651  \n",
       "168712   2070661  \n",
       "168715   2070765  \n",
       "168716   2070930  \n",
       "168717   2071053  \n",
       "168718   2071092  \n",
       "168719   2071102  \n",
       "168722   2071155  \n",
       "168723   2071260  \n",
       "168724   2071352  \n",
       "168725   2071370  \n",
       "168726   2071373  \n",
       "168729   2071468  \n",
       "168730   2071497  \n",
       "168735   2071689  \n",
       "168736   2071702  \n",
       "168737   2071789  \n",
       "168738   2071861  \n",
       "168739   2071948  \n",
       "168740   2071971  \n",
       "168741   2071978  \n",
       "168743   2071984  \n",
       "168744   2072099  \n",
       "168745   2072186  \n",
       "168746   2072254  \n",
       "168747   2072280  \n",
       "168748   2072284  \n",
       "168751   2072408  \n",
       "168752   2072542  \n",
       "168753   2072613  \n",
       "...          ...  \n",
       "1028280  3399210  \n",
       "1028281  3399226  \n",
       "1028287  3400197  \n",
       "1028288  3400211  \n",
       "1028289  3400218  \n",
       "1028290  3400349  \n",
       "1028291  3400745  \n",
       "1028292  3401025  \n",
       "1028293  3401111  \n",
       "1028294  3401120  \n",
       "1028295  3401152  \n",
       "1028296  3401539  \n",
       "1028297  3402093  \n",
       "1028298  3403074  \n",
       "1028299  3403182  \n",
       "1028300  3403198  \n",
       "1028301  3403246  \n",
       "1028302  3403630  \n",
       "1028303  3404325  \n",
       "1028305  3405939  \n",
       "1028306  3406060  \n",
       "1028307  3406070  \n",
       "1028308  3406134  \n",
       "1028313  3408325  \n",
       "1028314  3408475  \n",
       "1028315  3408500  \n",
       "1028316  3408546  \n",
       "1028317  3409027  \n",
       "1028318  3409731  \n",
       "1028319  3410637  \n",
       "\n",
       "[2731 rows x 9 columns]"
      ]
     },
     "execution_count": 81,
     "metadata": {},
     "output_type": "execute_result"
    }
   ],
   "source": [
    "turnstile_df_reg.loc[(turnstile_df['UNIT'] == 'R051') & (turnstile_df['C/A'] != 'A002'), :]"
   ]
  },
  {
   "cell_type": "code",
   "execution_count": null,
   "metadata": {
    "collapsed": true
   },
   "outputs": [],
   "source": [
    "turnstile_df_reg.loc[(turnstile_df['UNIT'] == 'R051') & (turnstile_df['C/A'] != 'A002'), :]"
   ]
  },
  {
   "cell_type": "code",
   "execution_count": 79,
   "metadata": {},
   "outputs": [
    {
     "data": {
      "text/plain": [
       "True"
      ]
     },
     "execution_count": 79,
     "metadata": {},
     "output_type": "execute_result"
    }
   ],
   "source": [
    "True & True"
   ]
  },
  {
   "cell_type": "code",
   "execution_count": 82,
   "metadata": {},
   "outputs": [
    {
     "name": "stderr",
     "output_type": "stream",
     "text": [
      "/home/sushant/anaconda2/lib/python2.7/site-packages/ipykernel_launcher.py:1: SettingWithCopyWarning: \n",
      "A value is trying to be set on a copy of a slice from a DataFrame.\n",
      "Try using .loc[row_indexer,col_indexer] = value instead\n",
      "\n",
      "See the caveats in the documentation: http://pandas.pydata.org/pandas-docs/stable/indexing.html#indexing-view-versus-copy\n",
      "  \"\"\"Entry point for launching an IPython kernel.\n"
     ]
    }
   ],
   "source": [
    "turnstile_df_reg['SCPChange'] = (turnstile_df_reg['SCP'] == turnstile_df_reg['SCP'].shift(1))"
   ]
  },
  {
   "cell_type": "code",
   "execution_count": 85,
   "metadata": {},
   "outputs": [
    {
     "data": {
      "text/html": [
       "<div>\n",
       "<style>\n",
       "    .dataframe thead tr:only-child th {\n",
       "        text-align: right;\n",
       "    }\n",
       "\n",
       "    .dataframe thead th {\n",
       "        text-align: left;\n",
       "    }\n",
       "\n",
       "    .dataframe tbody tr th {\n",
       "        vertical-align: top;\n",
       "    }\n",
       "</style>\n",
       "<table border=\"1\" class=\"dataframe\">\n",
       "  <thead>\n",
       "    <tr style=\"text-align: right;\">\n",
       "      <th></th>\n",
       "      <th>C/A</th>\n",
       "      <th>UNIT</th>\n",
       "      <th>SCP</th>\n",
       "      <th>DATEn</th>\n",
       "      <th>TIMEn</th>\n",
       "      <th>Hour</th>\n",
       "      <th>DESCn</th>\n",
       "      <th>ENTRIESn</th>\n",
       "      <th>EXITSn</th>\n",
       "      <th>SCPChange</th>\n",
       "    </tr>\n",
       "  </thead>\n",
       "  <tbody>\n",
       "    <tr>\n",
       "      <th>0</th>\n",
       "      <td>A002</td>\n",
       "      <td>R051</td>\n",
       "      <td>02-00-00</td>\n",
       "      <td>2011-04-30</td>\n",
       "      <td>00:00:00</td>\n",
       "      <td>0</td>\n",
       "      <td>REGULAR</td>\n",
       "      <td>3143506</td>\n",
       "      <td>1087907</td>\n",
       "      <td>False</td>\n",
       "    </tr>\n",
       "    <tr>\n",
       "      <th>47</th>\n",
       "      <td>A002</td>\n",
       "      <td>R051</td>\n",
       "      <td>02-00-01</td>\n",
       "      <td>2011-04-30</td>\n",
       "      <td>00:00:00</td>\n",
       "      <td>0</td>\n",
       "      <td>REGULAR</td>\n",
       "      <td>3093886</td>\n",
       "      <td>658807</td>\n",
       "      <td>False</td>\n",
       "    </tr>\n",
       "    <tr>\n",
       "      <th>93</th>\n",
       "      <td>A002</td>\n",
       "      <td>R051</td>\n",
       "      <td>02-03-00</td>\n",
       "      <td>2011-04-30</td>\n",
       "      <td>00:00:00</td>\n",
       "      <td>0</td>\n",
       "      <td>REGULAR</td>\n",
       "      <td>1286852</td>\n",
       "      <td>4585104</td>\n",
       "      <td>False</td>\n",
       "    </tr>\n",
       "    <tr>\n",
       "      <th>138</th>\n",
       "      <td>A002</td>\n",
       "      <td>R051</td>\n",
       "      <td>02-03-01</td>\n",
       "      <td>2011-04-30</td>\n",
       "      <td>00:00:00</td>\n",
       "      <td>0</td>\n",
       "      <td>REGULAR</td>\n",
       "      <td>2845503</td>\n",
       "      <td>4386061</td>\n",
       "      <td>False</td>\n",
       "    </tr>\n",
       "    <tr>\n",
       "      <th>185</th>\n",
       "      <td>A002</td>\n",
       "      <td>R051</td>\n",
       "      <td>02-03-02</td>\n",
       "      <td>2011-04-30</td>\n",
       "      <td>00:00:00</td>\n",
       "      <td>0</td>\n",
       "      <td>REGULAR</td>\n",
       "      <td>2616361</td>\n",
       "      <td>3583719</td>\n",
       "      <td>False</td>\n",
       "    </tr>\n",
       "  </tbody>\n",
       "</table>\n",
       "</div>"
      ],
      "text/plain": [
       "      C/A  UNIT       SCP       DATEn     TIMEn  Hour    DESCn  ENTRIESn  \\\n",
       "0    A002  R051  02-00-00  2011-04-30  00:00:00     0  REGULAR   3143506   \n",
       "47   A002  R051  02-00-01  2011-04-30  00:00:00     0  REGULAR   3093886   \n",
       "93   A002  R051  02-03-00  2011-04-30  00:00:00     0  REGULAR   1286852   \n",
       "138  A002  R051  02-03-01  2011-04-30  00:00:00     0  REGULAR   2845503   \n",
       "185  A002  R051  02-03-02  2011-04-30  00:00:00     0  REGULAR   2616361   \n",
       "\n",
       "      EXITSn  SCPChange  \n",
       "0    1087907      False  \n",
       "47    658807      False  \n",
       "93   4585104      False  \n",
       "138  4386061      False  \n",
       "185  3583719      False  "
      ]
     },
     "execution_count": 85,
     "metadata": {},
     "output_type": "execute_result"
    }
   ],
   "source": [
    "turnstile_df_reg[turnstile_df_reg['SCPChange'] == False].head()"
   ]
  },
  {
   "cell_type": "code",
   "execution_count": 86,
   "metadata": {},
   "outputs": [
    {
     "data": {
      "text/html": [
       "<div>\n",
       "<style>\n",
       "    .dataframe thead tr:only-child th {\n",
       "        text-align: right;\n",
       "    }\n",
       "\n",
       "    .dataframe thead th {\n",
       "        text-align: left;\n",
       "    }\n",
       "\n",
       "    .dataframe tbody tr th {\n",
       "        vertical-align: top;\n",
       "    }\n",
       "</style>\n",
       "<table border=\"1\" class=\"dataframe\">\n",
       "  <thead>\n",
       "    <tr style=\"text-align: right;\">\n",
       "      <th></th>\n",
       "      <th>C/A</th>\n",
       "      <th>UNIT</th>\n",
       "      <th>SCP</th>\n",
       "      <th>DATEn</th>\n",
       "      <th>TIMEn</th>\n",
       "      <th>Hour</th>\n",
       "      <th>DESCn</th>\n",
       "      <th>ENTRIESn</th>\n",
       "      <th>EXITSn</th>\n",
       "      <th>SCPChange</th>\n",
       "    </tr>\n",
       "  </thead>\n",
       "  <tbody>\n",
       "    <tr>\n",
       "      <th>45</th>\n",
       "      <td>A002</td>\n",
       "      <td>R051</td>\n",
       "      <td>02-00-00</td>\n",
       "      <td>2011-05-06</td>\n",
       "      <td>16:00:00</td>\n",
       "      <td>16</td>\n",
       "      <td>REGULAR</td>\n",
       "      <td>3151315</td>\n",
       "      <td>1091227</td>\n",
       "      <td>True</td>\n",
       "    </tr>\n",
       "    <tr>\n",
       "      <th>46</th>\n",
       "      <td>A002</td>\n",
       "      <td>R051</td>\n",
       "      <td>02-00-00</td>\n",
       "      <td>2011-05-06</td>\n",
       "      <td>20:00:00</td>\n",
       "      <td>20</td>\n",
       "      <td>REGULAR</td>\n",
       "      <td>3152200</td>\n",
       "      <td>1091283</td>\n",
       "      <td>True</td>\n",
       "    </tr>\n",
       "    <tr>\n",
       "      <th>47</th>\n",
       "      <td>A002</td>\n",
       "      <td>R051</td>\n",
       "      <td>02-00-01</td>\n",
       "      <td>2011-04-30</td>\n",
       "      <td>00:00:00</td>\n",
       "      <td>0</td>\n",
       "      <td>REGULAR</td>\n",
       "      <td>3093886</td>\n",
       "      <td>658807</td>\n",
       "      <td>False</td>\n",
       "    </tr>\n",
       "    <tr>\n",
       "      <th>48</th>\n",
       "      <td>A002</td>\n",
       "      <td>R051</td>\n",
       "      <td>02-00-01</td>\n",
       "      <td>2011-04-30</td>\n",
       "      <td>04:00:00</td>\n",
       "      <td>4</td>\n",
       "      <td>REGULAR</td>\n",
       "      <td>3093909</td>\n",
       "      <td>658812</td>\n",
       "      <td>True</td>\n",
       "    </tr>\n",
       "  </tbody>\n",
       "</table>\n",
       "</div>"
      ],
      "text/plain": [
       "     C/A  UNIT       SCP       DATEn     TIMEn  Hour    DESCn  ENTRIESn  \\\n",
       "45  A002  R051  02-00-00  2011-05-06  16:00:00    16  REGULAR   3151315   \n",
       "46  A002  R051  02-00-00  2011-05-06  20:00:00    20  REGULAR   3152200   \n",
       "47  A002  R051  02-00-01  2011-04-30  00:00:00     0  REGULAR   3093886   \n",
       "48  A002  R051  02-00-01  2011-04-30  04:00:00     4  REGULAR   3093909   \n",
       "\n",
       "     EXITSn  SCPChange  \n",
       "45  1091227       True  \n",
       "46  1091283       True  \n",
       "47   658807      False  \n",
       "48   658812       True  "
      ]
     },
     "execution_count": 86,
     "metadata": {},
     "output_type": "execute_result"
    }
   ],
   "source": [
    "turnstile_df_reg.loc[45:48, :]"
   ]
  },
  {
   "cell_type": "code",
   "execution_count": null,
   "metadata": {},
   "outputs": [],
   "source": [
    "turnstile_df_reg['SCPChange'].value_counts()"
   ]
  },
  {
   "cell_type": "code",
   "execution_count": null,
   "metadata": {
    "collapsed": true
   },
   "outputs": [],
   "source": [
    "turnstile_df_reg.loc[:,'ENTRIESn_4hourly'] = \\\n",
    "    turnstile_df_reg.loc[:, 'ENTRIESn'] - turnstile_df_reg.loc[:, 'ENTRIESn'].shift(1) \n",
    "# using .loc is a safe way of doing this rather than using 'chained' indexing"
   ]
  },
  {
   "cell_type": "code",
   "execution_count": null,
   "metadata": {},
   "outputs": [],
   "source": [
    "turnstile_df_reg['ENTRIESn_4hourly_actual'] = turnstile_df_reg['ENTRIESn_4hourly'] * turnstile_df_reg['SCPChange']"
   ]
  },
  {
   "cell_type": "code",
   "execution_count": null,
   "metadata": {},
   "outputs": [],
   "source": [
    "turnstile_df_reg"
   ]
  },
  {
   "cell_type": "markdown",
   "metadata": {},
   "source": [
    "As expected, the first variable is Nan. Let's replace it with 1. "
   ]
  },
  {
   "cell_type": "code",
   "execution_count": null,
   "metadata": {},
   "outputs": [],
   "source": [
    "turnstile_df_reg.iloc[11737:11742]"
   ]
  },
  {
   "cell_type": "code",
   "execution_count": null,
   "metadata": {},
   "outputs": [],
   "source": [
    "turnstile_df_reg.loc[turnstile_df_reg['ENTRIESn_4hourly_actual'] < 0]"
   ]
  },
  {
   "cell_type": "code",
   "execution_count": null,
   "metadata": {
    "collapsed": true
   },
   "outputs": [],
   "source": [
    "turnstile_df_reg.loc[:, 'ENTRIESn_4hourly'] = turnstile_df_reg.loc[:, 'ENTRIESn_4hourly'].fillna(0)"
   ]
  },
  {
   "cell_type": "code",
   "execution_count": null,
   "metadata": {},
   "outputs": [],
   "source": [
    "turnstile_df_reg.head()"
   ]
  },
  {
   "cell_type": "markdown",
   "metadata": {},
   "source": [
    "Let's do the same thing for the Exits and replace Nan with 0"
   ]
  },
  {
   "cell_type": "code",
   "execution_count": null,
   "metadata": {
    "collapsed": true
   },
   "outputs": [],
   "source": [
    "turnstile_df_reg['DATEn'] == turnstile_df_reg['DATEn'].shift(1);"
   ]
  },
  {
   "cell_type": "code",
   "execution_count": null,
   "metadata": {
    "collapsed": true
   },
   "outputs": [],
   "source": [
    "turnstile_df_reg.loc[:,'EXITSn_4hourly'] = \\\n",
    "    turnstile_df_reg.loc[:, 'EXITSn'] - turnstile_df_reg.loc[:, 'EXITSn'].shift(1) "
   ]
  },
  {
   "cell_type": "code",
   "execution_count": null,
   "metadata": {
    "collapsed": true
   },
   "outputs": [],
   "source": [
    "turnstile_df_reg.loc[:, 'EXITSn_4hourly'] = turnstile_df_reg.loc[:, 'EXITSn_4hourly'].fillna(0)"
   ]
  },
  {
   "cell_type": "code",
   "execution_count": null,
   "metadata": {},
   "outputs": [],
   "source": [
    "turnstile_df_reg.head()"
   ]
  },
  {
   "cell_type": "code",
   "execution_count": null,
   "metadata": {},
   "outputs": [],
   "source": [
    "turnstile_df_reg[turnstile_df_reg['UNIT'] == 'R001']"
   ]
  },
  {
   "cell_type": "markdown",
   "metadata": {},
   "source": [
    "For future analysis, it's convenient if we convert TIMEn into the hour of the day. "
   ]
  },
  {
   "cell_type": "code",
   "execution_count": null,
   "metadata": {},
   "outputs": [],
   "source": [
    "turnstile_df_reg.head(10)"
   ]
  },
  {
   "cell_type": "markdown",
   "metadata": {},
   "source": [
    "Removing some of the April and June values that had crept in"
   ]
  },
  {
   "cell_type": "code",
   "execution_count": null,
   "metadata": {},
   "outputs": [],
   "source": [
    "turnstile_df_reg['DATEn'].unique()"
   ]
  },
  {
   "cell_type": "code",
   "execution_count": null,
   "metadata": {},
   "outputs": [],
   "source": [
    "turnstile_df_reg.head(5)"
   ]
  },
  {
   "cell_type": "markdown",
   "metadata": {},
   "source": [
    "## Merge the weather data"
   ]
  },
  {
   "cell_type": "code",
   "execution_count": null,
   "metadata": {
    "collapsed": true
   },
   "outputs": [],
   "source": [
    "weather_df = pd.read_csv('./data/weather-underground.csv')"
   ]
  },
  {
   "cell_type": "code",
   "execution_count": null,
   "metadata": {},
   "outputs": [],
   "source": [
    "weather_df.head()"
   ]
  },
  {
   "cell_type": "code",
   "execution_count": null,
   "metadata": {},
   "outputs": [],
   "source": [
    "weather_df.shape"
   ]
  },
  {
   "cell_type": "code",
   "execution_count": null,
   "metadata": {},
   "outputs": [],
   "source": [
    "turnstile_df_reg.shape"
   ]
  },
  {
   "cell_type": "code",
   "execution_count": null,
   "metadata": {},
   "outputs": [],
   "source": [
    "turnstile_df_reg.DATEn.unique()"
   ]
  },
  {
   "cell_type": "code",
   "execution_count": null,
   "metadata": {},
   "outputs": [],
   "source": [
    "turnstile_df_reg.DATEn.nunique()"
   ]
  },
  {
   "cell_type": "code",
   "execution_count": null,
   "metadata": {},
   "outputs": [],
   "source": [
    "weather_df.columns"
   ]
  },
  {
   "cell_type": "markdown",
   "metadata": {},
   "source": [
    "It's clear that many of these features are not gonna have an effect on subway ridership. Also, getting rid of columns which have the same value throughout -- for instance snowfall = 0 (it's the month of May!). So let's pick columns which could be relevant. "
   ]
  },
  {
   "cell_type": "code",
   "execution_count": null,
   "metadata": {
    "collapsed": true
   },
   "outputs": [],
   "source": [
    "weather_df_relevant = weather_df[['date', 'maxpressurei', 'maxdewpti', 'mindewpti', 'minpressurei', 'meandewpti', \\\n",
    "                                 'meanpressurei', 'fog', 'rain', 'meanwindspdi', 'mintempi', 'meantempi', \\\n",
    "                                 'maxtempi', 'precipi', 'thunder']]"
   ]
  },
  {
   "cell_type": "code",
   "execution_count": null,
   "metadata": {},
   "outputs": [],
   "source": [
    "weather_df_relevant.head()"
   ]
  },
  {
   "cell_type": "code",
   "execution_count": null,
   "metadata": {},
   "outputs": [],
   "source": [
    "turnstile_df_reg.columns"
   ]
  },
  {
   "cell_type": "code",
   "execution_count": null,
   "metadata": {
    "collapsed": true
   },
   "outputs": [],
   "source": [
    "weather_df_relevant = weather_df_relevant.rename(columns = {'date': 'DATEn'})"
   ]
  },
  {
   "cell_type": "markdown",
   "metadata": {},
   "source": [
    "** Make the columnname for the date column match **"
   ]
  },
  {
   "cell_type": "code",
   "execution_count": null,
   "metadata": {},
   "outputs": [],
   "source": [
    "weather_df_relevant.head()"
   ]
  },
  {
   "cell_type": "code",
   "execution_count": null,
   "metadata": {
    "collapsed": true
   },
   "outputs": [],
   "source": [
    "turnstile_weather_df = pd.merge(turnstile_df_reg, weather_df_relevant, on = 'DATEn', how = 'outer')"
   ]
  },
  {
   "cell_type": "code",
   "execution_count": null,
   "metadata": {},
   "outputs": [],
   "source": [
    "turnstile_weather_df.head()"
   ]
  },
  {
   "cell_type": "code",
   "execution_count": null,
   "metadata": {},
   "outputs": [],
   "source": [
    "turnstile_weather_df.tail()"
   ]
  },
  {
   "cell_type": "code",
   "execution_count": null,
   "metadata": {},
   "outputs": [],
   "source": [
    "turnstile_weather_df.shape"
   ]
  },
  {
   "cell_type": "code",
   "execution_count": null,
   "metadata": {},
   "outputs": [],
   "source": [
    "turnstile_df_reg.shape"
   ]
  },
  {
   "cell_type": "code",
   "execution_count": null,
   "metadata": {},
   "outputs": [],
   "source": [
    "weather_df_relevant.shape"
   ]
  },
  {
   "cell_type": "markdown",
   "metadata": {},
   "source": [
    "## Data analysis\n",
    "\n",
    "Now that we have merged the weather and the subway data.  Let's do some data exploration.\n",
    "\n",
    "Let's start by looking at the Entries_4hourly and check what distribution it follows. Let's look at the case of rainy vs. non-rainy days. "
   ]
  },
  {
   "cell_type": "code",
   "execution_count": null,
   "metadata": {},
   "outputs": [],
   "source": [
    "plt.figure()\n",
    "(turnstile_weather_df.loc[:,'ENTRIESn_4hourly_actual'][turnstile_weather_df['rain'] == 0]).hist(bins = 2000, label = 'no rain')\n",
    "(turnstile_weather_df.loc[:,'ENTRIESn_4hourly_actual'][turnstile_weather_df['rain'] == 1]).hist(bins = 2000, label = 'rain')\n",
    "plt.xlim([0, 6000])\n",
    "plt.legend()\n",
    "plt.xlabel('ENTRIESn_hourly')\n",
    "plt.ylabel('Frequency')"
   ]
  },
  {
   "cell_type": "code",
   "execution_count": null,
   "metadata": {},
   "outputs": [],
   "source": [
    "turnstile_weather_df.loc[:,'ENTRIESn_4hourly_actual'][turnstile_weather_df['rain'] == 0]"
   ]
  },
  {
   "cell_type": "code",
   "execution_count": null,
   "metadata": {},
   "outputs": [],
   "source": [
    "np.mean(turnstile_weather_df['ENTRIESn_4hourly_actual'][turnstile_weather_df['rain'] == 1])"
   ]
  },
  {
   "cell_type": "code",
   "execution_count": null,
   "metadata": {},
   "outputs": [],
   "source": [
    "turnstile_weather_df.loc[1]"
   ]
  },
  {
   "cell_type": "code",
   "execution_count": null,
   "metadata": {},
   "outputs": [],
   "source": [
    "turnstile_weather_df['UNIT'].nunique()"
   ]
  },
  {
   "cell_type": "code",
   "execution_count": null,
   "metadata": {},
   "outputs": [],
   "source": [
    "turnstile_weather_df[turnstile_weather_df['UNIT'] == 'R001']"
   ]
  },
  {
   "cell_type": "code",
   "execution_count": null,
   "metadata": {},
   "outputs": [],
   "source": [
    "turnstile_weather_df.shape"
   ]
  },
  {
   "cell_type": "code",
   "execution_count": null,
   "metadata": {},
   "outputs": [],
   "source": [
    "turnstile_weather_df[['C/A','UNIT','ENTRIESn_4hourly']].groupby(['UNIT'], as_index = False).sum()"
   ]
  },
  {
   "cell_type": "code",
   "execution_count": null,
   "metadata": {},
   "outputs": [],
   "source": [
    "turnstile_weather_df[turnstile_weather_df['ENTRIESn_4hourly'] < 0]"
   ]
  },
  {
   "cell_type": "code",
   "execution_count": null,
   "metadata": {},
   "outputs": [],
   "source": [
    "True"
   ]
  },
  {
   "cell_type": "code",
   "execution_count": null,
   "metadata": {},
   "outputs": [],
   "source": [
    "int(True)"
   ]
  },
  {
   "cell_type": "code",
   "execution_count": null,
   "metadata": {},
   "outputs": [],
   "source": [
    "True * 5"
   ]
  },
  {
   "cell_type": "code",
   "execution_count": null,
   "metadata": {},
   "outputs": [],
   "source": [
    "False * 5"
   ]
  },
  {
   "cell_type": "code",
   "execution_count": null,
   "metadata": {
    "collapsed": true
   },
   "outputs": [],
   "source": []
  }
 ],
 "metadata": {
  "kernelspec": {
   "display_name": "Python 2",
   "language": "python",
   "name": "python2"
  },
  "language_info": {
   "codemirror_mode": {
    "name": "ipython",
    "version": 2
   },
   "file_extension": ".py",
   "mimetype": "text/x-python",
   "name": "python",
   "nbconvert_exporter": "python",
   "pygments_lexer": "ipython2",
   "version": "2.7.13"
  }
 },
 "nbformat": 4,
 "nbformat_minor": 2
}
