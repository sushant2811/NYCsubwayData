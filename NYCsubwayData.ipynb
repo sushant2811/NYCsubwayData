{
 "cells": [
  {
   "cell_type": "markdown",
   "metadata": {},
   "source": [
    "# Analyzing New York City subway data \n",
    "\n",
    "#### Author: Sushant N. More\n",
    "\n",
    "### Data from web.mta.info/developers/turnstile.html.  Also, using a data file from weather underground obtained from Udacity website\n",
    "\n",
    "#### Revision history: \n",
    "\n",
    "Sept. 15, 2017: Started writing"
   ]
  },
  {
   "cell_type": "code",
   "execution_count": null,
   "metadata": {
    "collapsed": true
   },
   "outputs": [],
   "source": []
  }
 ],
 "metadata": {
  "kernelspec": {
   "display_name": "Python 2",
   "language": "python",
   "name": "python2"
  },
  "language_info": {
   "codemirror_mode": {
    "name": "ipython",
    "version": 2
   },
   "file_extension": ".py",
   "mimetype": "text/x-python",
   "name": "python",
   "nbconvert_exporter": "python",
   "pygments_lexer": "ipython2",
   "version": "2.7.13"
  }
 },
 "nbformat": 4,
 "nbformat_minor": 2
}
