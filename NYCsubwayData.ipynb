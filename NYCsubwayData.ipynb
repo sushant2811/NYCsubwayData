{
 "cells": [
  {
   "cell_type": "markdown",
   "metadata": {},
   "source": [
    "# Analyzing New York City subway data \n",
    "\n",
    "#### Author: Sushant N. More\n",
    "\n",
    "### Data from web.mta.info/developers/turnstile.html.  Also, using a data file from weather underground obtained from Udacity website\n",
    "\n",
    "#### Revision history: \n",
    "\n",
    "Sept. 15, 2017: Started writing"
   ]
  },
  {
   "cell_type": "code",
   "execution_count": 22,
   "metadata": {
    "collapsed": true
   },
   "outputs": [],
   "source": [
    "import pandas as pd\n",
    "import numpy as np\n",
    "import matplotlib.pyplot as plt\n",
    "%matplotlib inline\n",
    "import scipy.stats\n",
    "import csv"
   ]
  },
  {
   "cell_type": "markdown",
   "metadata": {},
   "source": [
    "## Data cleaning\n",
    "\n",
    "We will be analysing subway data from MTA's website for the month of May 2011 (because later I want to relate this to weather data and the weather data I have is for the month of May 2011). \n",
    "\n",
    "This is real-world data.  We can expect significant effort in cleaning and formatting the data. The data for a given month is in four different files.  Let's start by looking at the files to see how data is arranged. "
   ]
  },
  {
   "cell_type": "code",
   "execution_count": 3,
   "metadata": {
    "collapsed": true
   },
   "outputs": [],
   "source": [
    "turnstile_df1 = pd.read_csv('./data/turnstile_110507_from_web_mta_info.txt')"
   ]
  },
  {
   "cell_type": "code",
   "execution_count": 4,
   "metadata": {},
   "outputs": [
    {
     "data": {
      "text/html": [
       "<div>\n",
       "<style>\n",
       "    .dataframe thead tr:only-child th {\n",
       "        text-align: right;\n",
       "    }\n",
       "\n",
       "    .dataframe thead th {\n",
       "        text-align: left;\n",
       "    }\n",
       "\n",
       "    .dataframe tbody tr th {\n",
       "        vertical-align: top;\n",
       "    }\n",
       "</style>\n",
       "<table border=\"1\" class=\"dataframe\">\n",
       "  <thead>\n",
       "    <tr style=\"text-align: right;\">\n",
       "      <th></th>\n",
       "      <th>A002</th>\n",
       "      <th>R051</th>\n",
       "      <th>02-00-00</th>\n",
       "      <th>04-30-11</th>\n",
       "      <th>00:00:00</th>\n",
       "      <th>REGULAR</th>\n",
       "      <th>003143506</th>\n",
       "      <th>001087907</th>\n",
       "      <th>04-30-11.1</th>\n",
       "      <th>04:00:00</th>\n",
       "      <th>...</th>\n",
       "      <th>05-01-11</th>\n",
       "      <th>00:00:00.1</th>\n",
       "      <th>REGULAR.6</th>\n",
       "      <th>003144312</th>\n",
       "      <th>001088151</th>\n",
       "      <th>05-01-11.1</th>\n",
       "      <th>04:00:00.1</th>\n",
       "      <th>REGULAR.7</th>\n",
       "      <th>003144335</th>\n",
       "      <th>001088159</th>\n",
       "    </tr>\n",
       "  </thead>\n",
       "  <tbody>\n",
       "    <tr>\n",
       "      <th>0</th>\n",
       "      <td>A002</td>\n",
       "      <td>R051</td>\n",
       "      <td>02-00-00</td>\n",
       "      <td>05-01-11</td>\n",
       "      <td>08:00:00</td>\n",
       "      <td>REGULAR</td>\n",
       "      <td>3144353</td>\n",
       "      <td>1088177</td>\n",
       "      <td>05-01-11</td>\n",
       "      <td>12:00:00</td>\n",
       "      <td>...</td>\n",
       "      <td>05-02-11</td>\n",
       "      <td>08:00:00</td>\n",
       "      <td>REGULAR</td>\n",
       "      <td>3144941.0</td>\n",
       "      <td>1088420.0</td>\n",
       "      <td>05-02-11</td>\n",
       "      <td>12:00:00</td>\n",
       "      <td>REGULAR</td>\n",
       "      <td>3145094.0</td>\n",
       "      <td>1088753.0</td>\n",
       "    </tr>\n",
       "    <tr>\n",
       "      <th>1</th>\n",
       "      <td>A002</td>\n",
       "      <td>R051</td>\n",
       "      <td>02-00-00</td>\n",
       "      <td>05-02-11</td>\n",
       "      <td>16:00:00</td>\n",
       "      <td>REGULAR</td>\n",
       "      <td>3145337</td>\n",
       "      <td>1088823</td>\n",
       "      <td>05-02-11</td>\n",
       "      <td>20:00:00</td>\n",
       "      <td>...</td>\n",
       "      <td>05-03-11</td>\n",
       "      <td>16:00:00</td>\n",
       "      <td>REGULAR</td>\n",
       "      <td>3146790.0</td>\n",
       "      <td>1089417.0</td>\n",
       "      <td>05-03-11</td>\n",
       "      <td>20:00:00</td>\n",
       "      <td>REGULAR</td>\n",
       "      <td>3147615.0</td>\n",
       "      <td>1089478.0</td>\n",
       "    </tr>\n",
       "    <tr>\n",
       "      <th>2</th>\n",
       "      <td>A002</td>\n",
       "      <td>R051</td>\n",
       "      <td>02-00-00</td>\n",
       "      <td>05-04-11</td>\n",
       "      <td>00:00:00</td>\n",
       "      <td>REGULAR</td>\n",
       "      <td>3147798</td>\n",
       "      <td>1089515</td>\n",
       "      <td>05-04-11</td>\n",
       "      <td>04:00:00</td>\n",
       "      <td>...</td>\n",
       "      <td>05-05-11</td>\n",
       "      <td>00:00:00</td>\n",
       "      <td>REGULAR</td>\n",
       "      <td>3149281.0</td>\n",
       "      <td>1090139.0</td>\n",
       "      <td>05-05-11</td>\n",
       "      <td>04:00:00</td>\n",
       "      <td>REGULAR</td>\n",
       "      <td>3149297.0</td>\n",
       "      <td>1090145.0</td>\n",
       "    </tr>\n",
       "    <tr>\n",
       "      <th>3</th>\n",
       "      <td>A002</td>\n",
       "      <td>R051</td>\n",
       "      <td>02-00-00</td>\n",
       "      <td>05-05-11</td>\n",
       "      <td>08:00:00</td>\n",
       "      <td>REGULAR</td>\n",
       "      <td>3149331</td>\n",
       "      <td>1090257</td>\n",
       "      <td>05-05-11</td>\n",
       "      <td>09:04:33</td>\n",
       "      <td>...</td>\n",
       "      <td>05-05-11</td>\n",
       "      <td>12:00:00</td>\n",
       "      <td>OPEN</td>\n",
       "      <td>3149494.0</td>\n",
       "      <td>1090579.0</td>\n",
       "      <td>05-05-11</td>\n",
       "      <td>16:00:00</td>\n",
       "      <td>DOOR</td>\n",
       "      <td>3149805.0</td>\n",
       "      <td>1090652.0</td>\n",
       "    </tr>\n",
       "    <tr>\n",
       "      <th>4</th>\n",
       "      <td>A002</td>\n",
       "      <td>R051</td>\n",
       "      <td>02-00-00</td>\n",
       "      <td>05-05-11</td>\n",
       "      <td>20:00:00</td>\n",
       "      <td>REGULAR</td>\n",
       "      <td>3150639</td>\n",
       "      <td>1090714</td>\n",
       "      <td>05-06-11</td>\n",
       "      <td>00:00:00</td>\n",
       "      <td>...</td>\n",
       "      <td>05-06-11</td>\n",
       "      <td>20:00:00</td>\n",
       "      <td>REGULAR</td>\n",
       "      <td>3152200.0</td>\n",
       "      <td>1091283.0</td>\n",
       "      <td>NaN</td>\n",
       "      <td>NaN</td>\n",
       "      <td>NaN</td>\n",
       "      <td>NaN</td>\n",
       "      <td>NaN</td>\n",
       "    </tr>\n",
       "  </tbody>\n",
       "</table>\n",
       "<p>5 rows × 43 columns</p>\n",
       "</div>"
      ],
      "text/plain": [
       "   A002  R051  02-00-00  04-30-11  00:00:00  REGULAR  003143506  001087907  \\\n",
       "0  A002  R051  02-00-00  05-01-11  08:00:00  REGULAR    3144353    1088177   \n",
       "1  A002  R051  02-00-00  05-02-11  16:00:00  REGULAR    3145337    1088823   \n",
       "2  A002  R051  02-00-00  05-04-11  00:00:00  REGULAR    3147798    1089515   \n",
       "3  A002  R051  02-00-00  05-05-11  08:00:00  REGULAR    3149331    1090257   \n",
       "4  A002  R051  02-00-00  05-05-11  20:00:00  REGULAR    3150639    1090714   \n",
       "\n",
       "  04-30-11.1  04:00:00           ...            05-01-11  00:00:00.1  \\\n",
       "0   05-01-11  12:00:00           ...            05-02-11    08:00:00   \n",
       "1   05-02-11  20:00:00           ...            05-03-11    16:00:00   \n",
       "2   05-04-11  04:00:00           ...            05-05-11    00:00:00   \n",
       "3   05-05-11  09:04:33           ...            05-05-11    12:00:00   \n",
       "4   05-06-11  00:00:00           ...            05-06-11    20:00:00   \n",
       "\n",
       "   REGULAR.6  003144312  001088151 05-01-11.1  04:00:00.1  REGULAR.7  \\\n",
       "0    REGULAR  3144941.0  1088420.0   05-02-11    12:00:00    REGULAR   \n",
       "1    REGULAR  3146790.0  1089417.0   05-03-11    20:00:00    REGULAR   \n",
       "2    REGULAR  3149281.0  1090139.0   05-05-11    04:00:00    REGULAR   \n",
       "3       OPEN  3149494.0  1090579.0   05-05-11    16:00:00       DOOR   \n",
       "4    REGULAR  3152200.0  1091283.0        NaN         NaN        NaN   \n",
       "\n",
       "   003144335 001088159                \n",
       "0  3145094.0               1088753.0  \n",
       "1  3147615.0               1089478.0  \n",
       "2  3149297.0               1090145.0  \n",
       "3  3149805.0               1090652.0  \n",
       "4        NaN                     NaN  \n",
       "\n",
       "[5 rows x 43 columns]"
      ]
     },
     "execution_count": 4,
     "metadata": {},
     "output_type": "execute_result"
    }
   ],
   "source": [
    "turnstile_df1.head()"
   ]
  },
  {
   "cell_type": "markdown",
   "metadata": {},
   "source": [
    "The data is not conviniently arranged as expected.  And it's difficult to get sense of it by loading it into pandas data frame. Let's try looking at the file contents directly."
   ]
  },
  {
   "cell_type": "code",
   "execution_count": 20,
   "metadata": {},
   "outputs": [
    {
     "name": "stdout",
     "output_type": "stream",
     "text": [
      "['A002,R051,02-00-00,04-30-11,00:00:00,REGULAR,003143506,001087907,04-30-11,04:00:00,REGULAR,003143547,001087915,04-30-11,08:00:00,REGULAR,003143563,001087935,04-30-11,12:00:00,REGULAR,003143646,001088024,04-30-11,16:00:00,REGULAR,003143865,001088083,04-30-11,20:00:00,REGULAR,003144181,001088132,05-01-11,00:00:00,REGULAR,003144312,001088151,05-01-11,04:00:00,REGULAR,003144335,001088159              \\r\\n', 'A002,R051,02-00-00,05-01-11,08:00:00,REGULAR,003144353,001088177,05-01-11,12:00:00,REGULAR,003144424,001088231,05-01-11,16:00:00,REGULAR,003144594,001088275,05-01-11,20:00:00,REGULAR,003144808,001088317,05-02-11,00:00:00,REGULAR,003144895,001088328,05-02-11,04:00:00,REGULAR,003144905,001088331,05-02-11,08:00:00,REGULAR,003144941,001088420,05-02-11,12:00:00,REGULAR,003145094,001088753              \\r\\n', 'A002,R051,02-00-00,05-02-11,16:00:00,REGULAR,003145337,001088823,05-02-11,20:00:00,REGULAR,003146168,001088888,05-03-11,00:00:00,REGULAR,003146322,001088918,05-03-11,04:00:00,REGULAR,003146335,001088921,05-03-11,08:00:00,REGULAR,003146371,001089014,05-03-11,12:00:00,REGULAR,003146510,001089341,05-03-11,16:00:00,REGULAR,003146790,001089417,05-03-11,20:00:00,REGULAR,003147615,001089478              \\r\\n', 'A002,R051,02-00-00,05-04-11,00:00:00,REGULAR,003147798,001089515,05-04-11,04:00:00,REGULAR,003147809,001089520,05-04-11,08:00:00,REGULAR,003147859,001089632,05-04-11,12:00:00,REGULAR,003147999,001089965,05-04-11,16:00:00,REGULAR,003148276,001090054,05-04-11,20:00:00,REGULAR,003149108,001090117,05-05-11,00:00:00,REGULAR,003149281,001090139,05-05-11,04:00:00,REGULAR,003149297,001090145              \\r\\n']\n"
     ]
    }
   ],
   "source": [
    "with open(\"./data/turnstile_110507_from_web_mta_info.txt\") as myfile:\n",
    "    print myfile.readlines()[0:4] "
   ]
  },
  {
   "cell_type": "markdown",
   "metadata": {},
   "source": [
    "As we can see, there are numerous data points included in each row of the MTA Subway turnstile text file. \n",
    "\n",
    "We want to write a function that will update each row in the text file so there is only one entry per row. So a single row from the input file will generate multiple rows. For instance the first row displayed in the above file will turn into following set of rows.\n",
    "\n",
    "A002,R051,02-00-00,04-30-11,00:00:00,REGULAR,003143506,001087907,\n",
    "A002,R051,02-00-00,04-30-11,04:00:00,REGULAR,003143547,001087915,\n",
    "A002,R051,02-00-00,04-30-11,08:00:00,REGULAR,003143563,001087935,\n",
    "A002,R051,02-00-00,04-30-11,12:00:00,REGULAR,003143646,001088024,\n",
    "A002,R051,02-00-00,04-30-11,16:00:00,REGULAR,003143865,001088083,\n",
    "A002,R051,02-00-00,04-30-11,20:00:00,REGULAR,003144181,001088132,\n",
    "A002,R051,02-00-00,05-01-11,00:00:00,REGULAR,003144312,001088151,\n",
    "A002,R051,02-00-00,05-01-11,04:00:00,REGULAR,003144335,001088159\n",
    "\n",
    "The first three elements in the input line -- A002,R051,02-00-00 -- are repeated for each of the 8 lines in the ouput file. "
   ]
  },
  {
   "cell_type": "code",
   "execution_count": 24,
   "metadata": {},
   "outputs": [],
   "source": [
    "fin1 = open(\"./data/turnstile_110507_from_web_mta_info.txt\", 'r')\n",
    "fout1 = open(\"./data/updated_turnstile_110507_from_web_mta_info.txt\", 'w')\n",
    "\n",
    "reader = csv.reader(fin1, delimiter = ',', quoting=csv.QUOTE_NONE)\n",
    "writer = csv.writer(fout1, delimiter = ',', quoting=csv.QUOTE_NONE)\n",
    "\n",
    "for line in reader:\n",
    "    \n",
    "    record1 = line[0]\n",
    "    record2 = line[1]\n",
    "    record3 = line[2]\n",
    "    \n",
    "    length = len(line)\n",
    "    \n",
    "    nn = (length - 1 - 7) / 5\n",
    "    \n",
    "    for i in range(0, nn + 1):\n",
    "        \n",
    "        lineToWrite = [record1, record2, record3, line[5*i + 3], \\\n",
    "                         line[5*i + 4], line[5*i + 5], line[5*i + 6], line[5*i + 7] ]\n",
    "        \n",
    "        writer.writerow(lineToWrite)\n",
    "\n",
    "fin1.close()\n",
    "fout1.close()"
   ]
  },
  {
   "cell_type": "markdown",
   "metadata": {},
   "source": [
    "Check to see if the updated file looks as expected"
   ]
  },
  {
   "cell_type": "code",
   "execution_count": 25,
   "metadata": {},
   "outputs": [
    {
     "name": "stdout",
     "output_type": "stream",
     "text": [
      "['A002,R051,02-00-00,04-30-11,00:00:00,REGULAR,003143506,001087907\\r\\n', 'A002,R051,02-00-00,04-30-11,04:00:00,REGULAR,003143547,001087915\\r\\n', 'A002,R051,02-00-00,04-30-11,08:00:00,REGULAR,003143563,001087935\\r\\n', 'A002,R051,02-00-00,04-30-11,12:00:00,REGULAR,003143646,001088024\\r\\n']\n"
     ]
    }
   ],
   "source": [
    "with open(\"./data/updated_turnstile_110507_from_web_mta_info.txt\") as myfile:\n",
    "    print myfile.readlines()[0:4] "
   ]
  },
  {
   "cell_type": "code",
   "execution_count": null,
   "metadata": {
    "collapsed": true
   },
   "outputs": [],
   "source": []
  }
 ],
 "metadata": {
  "kernelspec": {
   "display_name": "Python 2",
   "language": "python",
   "name": "python2"
  },
  "language_info": {
   "codemirror_mode": {
    "name": "ipython",
    "version": 2
   },
   "file_extension": ".py",
   "mimetype": "text/x-python",
   "name": "python",
   "nbconvert_exporter": "python",
   "pygments_lexer": "ipython2",
   "version": "2.7.13"
  }
 },
 "nbformat": 4,
 "nbformat_minor": 2
}
